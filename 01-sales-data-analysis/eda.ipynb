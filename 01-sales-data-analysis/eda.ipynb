{
 "cells": [
  {
   "cell_type": "markdown",
   "metadata": {},
   "source": [
    "# Sales Data Analysis\n"
   ]
  },
  {
   "cell_type": "code",
   "execution_count": 77,
   "metadata": {},
   "outputs": [],
   "source": [
    "import pandas as pd\n",
    "import numpy as np\n",
    "import matplotlib.pyplot as plt"
   ]
  },
  {
   "cell_type": "code",
   "execution_count": 58,
   "metadata": {},
   "outputs": [],
   "source": [
    "months = [\n",
    "    \"January\",\n",
    "    \"February\",\n",
    "    \"March\",\n",
    "    \"April\",\n",
    "    \"May\",\n",
    "    \"June\",\n",
    "    \"July\",\n",
    "    \"August\",\n",
    "    \"September\",\n",
    "    \"October\",\n",
    "    \"November\",\n",
    "    \"December\",\n",
    "]\n",
    "\n",
    "df = pd.DataFrame()\n",
    "\n",
    "for month in months:\n",
    "    df = pd.concat(\n",
    "        [\n",
    "            df,\n",
    "            pd.read_csv(\n",
    "                \"./data/knightbearr-sales-data/Sales_{0}_2019.csv\".format(month)\n",
    "            ),\n",
    "        ]\n",
    "    )\n",
    "# df = pd.read_csv(\"./data/knightbearr-sales-data/Sales_January_2019.csv\")"
   ]
  },
  {
   "cell_type": "code",
   "execution_count": 59,
   "metadata": {},
   "outputs": [
    {
     "name": "stdout",
     "output_type": "stream",
     "text": [
      "<class 'pandas.core.frame.DataFrame'>\n",
      "Int64Index: 186850 entries, 0 to 25116\n",
      "Data columns (total 6 columns):\n",
      " #   Column            Non-Null Count   Dtype \n",
      "---  ------            --------------   ----- \n",
      " 0   Order ID          186305 non-null  object\n",
      " 1   Product           186305 non-null  object\n",
      " 2   Quantity Ordered  186305 non-null  object\n",
      " 3   Price Each        186305 non-null  object\n",
      " 4   Order Date        186305 non-null  object\n",
      " 5   Purchase Address  186305 non-null  object\n",
      "dtypes: object(6)\n",
      "memory usage: 10.0+ MB\n"
     ]
    }
   ],
   "source": [
    "df.info()"
   ]
  },
  {
   "cell_type": "code",
   "execution_count": 73,
   "metadata": {},
   "outputs": [
    {
     "name": "stderr",
     "output_type": "stream",
     "text": [
      "C:\\Users\\kash\\AppData\\Local\\Temp\\ipykernel_18256\\124729422.py:3: SettingWithCopyWarning: \n",
      "A value is trying to be set on a copy of a slice from a DataFrame.\n",
      "Try using .loc[row_indexer,col_indexer] = value instead\n",
      "\n",
      "See the caveats in the documentation: https://pandas.pydata.org/pandas-docs/stable/user_guide/indexing.html#returning-a-view-versus-a-copy\n",
      "  df_cleaned[\"Order ID\"] = df_cleaned[\"Order ID\"].astype(int)\n",
      "C:\\Users\\kash\\AppData\\Local\\Temp\\ipykernel_18256\\124729422.py:4: SettingWithCopyWarning: \n",
      "A value is trying to be set on a copy of a slice from a DataFrame.\n",
      "Try using .loc[row_indexer,col_indexer] = value instead\n",
      "\n",
      "See the caveats in the documentation: https://pandas.pydata.org/pandas-docs/stable/user_guide/indexing.html#returning-a-view-versus-a-copy\n",
      "  df_cleaned[\"Quantity Ordered\"] = (\n",
      "C:\\Users\\kash\\AppData\\Local\\Temp\\ipykernel_18256\\124729422.py:7: SettingWithCopyWarning: \n",
      "A value is trying to be set on a copy of a slice from a DataFrame.\n",
      "Try using .loc[row_indexer,col_indexer] = value instead\n",
      "\n",
      "See the caveats in the documentation: https://pandas.pydata.org/pandas-docs/stable/user_guide/indexing.html#returning-a-view-versus-a-copy\n",
      "  df_cleaned[\"Price Each\"] = df_cleaned[\"Price Each\"].astype(float)\n"
     ]
    },
    {
     "name": "stdout",
     "output_type": "stream",
     "text": [
      "<class 'pandas.core.frame.DataFrame'>\n",
      "Int64Index: 186495 entries, 0 to 25116\n",
      "Data columns (total 6 columns):\n",
      " #   Column            Non-Null Count   Dtype         \n",
      "---  ------            --------------   -----         \n",
      " 0   Order ID          186495 non-null  int32         \n",
      " 1   Product           185950 non-null  object        \n",
      " 2   Quantity Ordered  186495 non-null  int32         \n",
      " 3   Price Each        185950 non-null  float64       \n",
      " 4   Order Date        185950 non-null  datetime64[ns]\n",
      " 5   Purchase Address  185950 non-null  object        \n",
      "dtypes: datetime64[ns](1), float64(1), int32(2), object(2)\n",
      "memory usage: 8.5+ MB\n"
     ]
    },
    {
     "name": "stderr",
     "output_type": "stream",
     "text": [
      "C:\\Users\\kash\\AppData\\Local\\Temp\\ipykernel_18256\\124729422.py:8: SettingWithCopyWarning: \n",
      "A value is trying to be set on a copy of a slice from a DataFrame.\n",
      "Try using .loc[row_indexer,col_indexer] = value instead\n",
      "\n",
      "See the caveats in the documentation: https://pandas.pydata.org/pandas-docs/stable/user_guide/indexing.html#returning-a-view-versus-a-copy\n",
      "  df_cleaned[\"Order Date\"] = pd.to_datetime(df_cleaned[\"Order Date\"])\n"
     ]
    }
   ],
   "source": [
    "df_cleaned = df[df[\"Order ID\"] != \"Order ID\"]\n",
    "\n",
    "df_cleaned[\"Order ID\"] = df_cleaned[\"Order ID\"].astype(int)\n",
    "df_cleaned[\"Quantity Ordered\"] = (\n",
    "    df_cleaned[\"Quantity Ordered\"].astype(float).fillna(0).astype(int)\n",
    ")\n",
    "df_cleaned[\"Price Each\"] = df_cleaned[\"Price Each\"].astype(float)\n",
    "df_cleaned[\"Order Date\"] = pd.to_datetime(df_cleaned[\"Order Date\"])\n",
    "\n",
    "df_cleaned.info()"
   ]
  },
  {
   "cell_type": "markdown",
   "metadata": {},
   "source": [
    "## Sales Totals\n"
   ]
  },
  {
   "cell_type": "code",
   "execution_count": 83,
   "metadata": {},
   "outputs": [
    {
     "name": "stdout",
     "output_type": "stream",
     "text": [
      "Total sales for the year amounted to $34,492,035.97, with the mean order having a value of $185.49 and 186,495 orders\n"
     ]
    }
   ],
   "source": [
    "number_of_orders = df_cleaned[\"Quantity Ordered\"].count()\n",
    "total_sales = np.sum(df_cleaned[\"Price Each\"] * df_cleaned[\"Quantity Ordered\"])\n",
    "mean_price = np.mean(df_cleaned[\"Price Each\"] * df_cleaned[\"Quantity Ordered\"])\n",
    "\n",
    "print(\n",
    "    \"Total sales for the year amounted to ${0:,.2f}, with the mean order having a value of ${1:,.2f} and {2:,d} orders\".format(\n",
    "        total_sales, mean_price, number_of_orders\n",
    "    )\n",
    ")"
   ]
  }
 ],
 "metadata": {
  "kernelspec": {
   "display_name": "ds",
   "language": "python",
   "name": "python3"
  },
  "language_info": {
   "codemirror_mode": {
    "name": "ipython",
    "version": 3
   },
   "file_extension": ".py",
   "mimetype": "text/x-python",
   "name": "python",
   "nbconvert_exporter": "python",
   "pygments_lexer": "ipython3",
   "version": "3.10.11"
  },
  "orig_nbformat": 4
 },
 "nbformat": 4,
 "nbformat_minor": 2
}
