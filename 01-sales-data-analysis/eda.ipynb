{
 "cells": [
  {
   "cell_type": "markdown",
   "metadata": {
    "pycharm": {
     "name": "#%% md\n"
    }
   },
   "source": [
    "# Sales Data Analysis\n"
   ]
  },
  {
   "cell_type": "markdown",
   "metadata": {},
   "source": [
    "This project uses [Knightbearr's sales product data](https://www.kaggle.com/datasets/knightbearr/sales-product-data) which, though contrived, serves as a useful starting point for store sales data analysis."
   ]
  },
  {
   "cell_type": "markdown",
   "metadata": {},
   "source": [
    "## Imports"
   ]
  },
  {
   "cell_type": "code",
   "execution_count": 1,
   "metadata": {
    "pycharm": {
     "is_executing": true,
     "name": "#%%\n"
    },
    "tags": []
   },
   "outputs": [],
   "source": [
    "import pandas as pd"
   ]
  },
  {
   "cell_type": "markdown",
   "metadata": {},
   "source": [
    "## Getting the data"
   ]
  },
  {
   "cell_type": "markdown",
   "metadata": {},
   "source": [
    "I downloaded the data archive, which comes with twelve files, each containing data for one of the twelve months of the year. To load the data into a Pandas DataFrame, I used the file name convention to my advantage:"
   ]
  },
  {
   "cell_type": "code",
   "execution_count": 2,
   "metadata": {
    "pycharm": {
     "name": "#%%\n"
    },
    "tags": []
   },
   "outputs": [],
   "source": [
    "months = [\n",
    "    \"January\",\n",
    "    \"February\",\n",
    "    \"March\",\n",
    "    \"April\",\n",
    "    \"May\",\n",
    "    \"June\",\n",
    "    \"July\",\n",
    "    \"August\",\n",
    "    \"September\",\n",
    "    \"October\",\n",
    "    \"November\",\n",
    "    \"December\",\n",
    "]\n",
    "\n",
    "df = pd.DataFrame()\n",
    "\n",
    "for month in months:\n",
    "    df = pd.concat([df, pd.read_csv(\"./data/knightbearr-sales-data/Sales_{0}_2019.csv\".format(month))], ignore_index = True)"
   ]
  },
  {
   "cell_type": "markdown",
   "metadata": {},
   "source": [
    "Note that `ignore_index` is set to `True` in the `concat()` call; this is because each DataFrame loaded by the `read_csv()` call in the loop has its own indices and if we don't ignore them, the repetition causes problems with DataFrame concatenation.\n",
    "\n",
    "As an experiemnt, try to replicate this whole notebook without using the `ignore_index` parameter. You'll see what issues I mean when you get to the grouped monthly sales data.\n",
    "\n",
    "For now, let's see what sort of data we have:"
   ]
  },
  {
   "cell_type": "code",
   "execution_count": 3,
   "metadata": {
    "pycharm": {
     "name": "#%%\n"
    },
    "tags": []
   },
   "outputs": [
    {
     "name": "stdout",
     "output_type": "stream",
     "text": [
      "<class 'pandas.core.frame.DataFrame'>\n",
      "RangeIndex: 186850 entries, 0 to 186849\n",
      "Data columns (total 6 columns):\n",
      " #   Column            Non-Null Count   Dtype \n",
      "---  ------            --------------   ----- \n",
      " 0   Order ID          186305 non-null  object\n",
      " 1   Product           186305 non-null  object\n",
      " 2   Quantity Ordered  186305 non-null  object\n",
      " 3   Price Each        186305 non-null  object\n",
      " 4   Order Date        186305 non-null  object\n",
      " 5   Purchase Address  186305 non-null  object\n",
      "dtypes: object(6)\n",
      "memory usage: 8.6+ MB\n"
     ]
    }
   ],
   "source": [
    "df.info()"
   ]
  },
  {
   "cell_type": "markdown",
   "metadata": {},
   "source": [
    "The `object`s in the `Dtype` column indicate that all the columns contain strings, which means we'll have to parse the strings in the `Order ID`, `Quantity Ordered`, `Price Each`, and `Order Date` colummns to get numeric values.\n",
    "\n",
    "First, though, let's see check the data quality."
   ]
  },
  {
   "cell_type": "markdown",
   "metadata": {},
   "source": [
    "## Checking data quality"
   ]
  },
  {
   "cell_type": "markdown",
   "metadata": {},
   "source": [
    "### Missing values"
   ]
  },
  {
   "cell_type": "markdown",
   "metadata": {},
   "source": [
    "The simplest data qualit check is seeing if there are missing values. Pandas DataFrames have a convenient `innull()` method that returns a DataFrame with the same dimensions as the DataFrame on which it was called, but filled with booleans indicating whether the value at that row and column is null:"
   ]
  },
  {
   "cell_type": "code",
   "execution_count": 4,
   "metadata": {
    "tags": []
   },
   "outputs": [
    {
     "data": {
      "text/plain": [
       "Order ID            545\n",
       "Product             545\n",
       "Quantity Ordered    545\n",
       "Price Each          545\n",
       "Order Date          545\n",
       "Purchase Address    545\n",
       "dtype: int64"
      ]
     },
     "execution_count": 4,
     "metadata": {},
     "output_type": "execute_result"
    }
   ],
   "source": [
    "df.isnull().sum()"
   ]
  },
  {
   "cell_type": "markdown",
   "metadata": {},
   "source": [
    "Looks like 545 entries in each column are null-valued. My bet is that there are 545 rows with all null values, rather than 545 entries in each column being randomly null-valued. The latter is too much coincidence: if there _were_ random nulls in each column, what are the odds the number of nulls in every column would be the same?\n",
    "\n",
    "Just to satisfy curiosity, let's get the rows with null values and see what we can make of them."
   ]
  },
  {
   "cell_type": "code",
   "execution_count": 5,
   "metadata": {
    "tags": []
   },
   "outputs": [
    {
     "data": {
      "text/html": [
       "<div>\n",
       "<style scoped>\n",
       "    .dataframe tbody tr th:only-of-type {\n",
       "        vertical-align: middle;\n",
       "    }\n",
       "\n",
       "    .dataframe tbody tr th {\n",
       "        vertical-align: top;\n",
       "    }\n",
       "\n",
       "    .dataframe thead th {\n",
       "        text-align: right;\n",
       "    }\n",
       "</style>\n",
       "<table border=\"1\" class=\"dataframe\">\n",
       "  <thead>\n",
       "    <tr style=\"text-align: right;\">\n",
       "      <th></th>\n",
       "      <th>Order ID</th>\n",
       "      <th>Product</th>\n",
       "      <th>Quantity Ordered</th>\n",
       "      <th>Price Each</th>\n",
       "      <th>Order Date</th>\n",
       "      <th>Purchase Address</th>\n",
       "    </tr>\n",
       "  </thead>\n",
       "  <tbody>\n",
       "    <tr>\n",
       "      <th>664</th>\n",
       "      <td>NaN</td>\n",
       "      <td>NaN</td>\n",
       "      <td>NaN</td>\n",
       "      <td>NaN</td>\n",
       "      <td>NaN</td>\n",
       "      <td>NaN</td>\n",
       "    </tr>\n",
       "    <tr>\n",
       "      <th>678</th>\n",
       "      <td>NaN</td>\n",
       "      <td>NaN</td>\n",
       "      <td>NaN</td>\n",
       "      <td>NaN</td>\n",
       "      <td>NaN</td>\n",
       "      <td>NaN</td>\n",
       "    </tr>\n",
       "    <tr>\n",
       "      <th>797</th>\n",
       "      <td>NaN</td>\n",
       "      <td>NaN</td>\n",
       "      <td>NaN</td>\n",
       "      <td>NaN</td>\n",
       "      <td>NaN</td>\n",
       "      <td>NaN</td>\n",
       "    </tr>\n",
       "    <tr>\n",
       "      <th>876</th>\n",
       "      <td>NaN</td>\n",
       "      <td>NaN</td>\n",
       "      <td>NaN</td>\n",
       "      <td>NaN</td>\n",
       "      <td>NaN</td>\n",
       "      <td>NaN</td>\n",
       "    </tr>\n",
       "    <tr>\n",
       "      <th>1299</th>\n",
       "      <td>NaN</td>\n",
       "      <td>NaN</td>\n",
       "      <td>NaN</td>\n",
       "      <td>NaN</td>\n",
       "      <td>NaN</td>\n",
       "      <td>NaN</td>\n",
       "    </tr>\n",
       "    <tr>\n",
       "      <th>...</th>\n",
       "      <td>...</td>\n",
       "      <td>...</td>\n",
       "      <td>...</td>\n",
       "      <td>...</td>\n",
       "      <td>...</td>\n",
       "      <td>...</td>\n",
       "    </tr>\n",
       "    <tr>\n",
       "      <th>184678</th>\n",
       "      <td>NaN</td>\n",
       "      <td>NaN</td>\n",
       "      <td>NaN</td>\n",
       "      <td>NaN</td>\n",
       "      <td>NaN</td>\n",
       "      <td>NaN</td>\n",
       "    </tr>\n",
       "    <tr>\n",
       "      <th>184695</th>\n",
       "      <td>NaN</td>\n",
       "      <td>NaN</td>\n",
       "      <td>NaN</td>\n",
       "      <td>NaN</td>\n",
       "      <td>NaN</td>\n",
       "      <td>NaN</td>\n",
       "    </tr>\n",
       "    <tr>\n",
       "      <th>185042</th>\n",
       "      <td>NaN</td>\n",
       "      <td>NaN</td>\n",
       "      <td>NaN</td>\n",
       "      <td>NaN</td>\n",
       "      <td>NaN</td>\n",
       "      <td>NaN</td>\n",
       "    </tr>\n",
       "    <tr>\n",
       "      <th>185729</th>\n",
       "      <td>NaN</td>\n",
       "      <td>NaN</td>\n",
       "      <td>NaN</td>\n",
       "      <td>NaN</td>\n",
       "      <td>NaN</td>\n",
       "      <td>NaN</td>\n",
       "    </tr>\n",
       "    <tr>\n",
       "      <th>186463</th>\n",
       "      <td>NaN</td>\n",
       "      <td>NaN</td>\n",
       "      <td>NaN</td>\n",
       "      <td>NaN</td>\n",
       "      <td>NaN</td>\n",
       "      <td>NaN</td>\n",
       "    </tr>\n",
       "  </tbody>\n",
       "</table>\n",
       "<p>545 rows × 6 columns</p>\n",
       "</div>"
      ],
      "text/plain": [
       "       Order ID Product Quantity Ordered Price Each Order Date  \\\n",
       "664         NaN     NaN              NaN        NaN        NaN   \n",
       "678         NaN     NaN              NaN        NaN        NaN   \n",
       "797         NaN     NaN              NaN        NaN        NaN   \n",
       "876         NaN     NaN              NaN        NaN        NaN   \n",
       "1299        NaN     NaN              NaN        NaN        NaN   \n",
       "...         ...     ...              ...        ...        ...   \n",
       "184678      NaN     NaN              NaN        NaN        NaN   \n",
       "184695      NaN     NaN              NaN        NaN        NaN   \n",
       "185042      NaN     NaN              NaN        NaN        NaN   \n",
       "185729      NaN     NaN              NaN        NaN        NaN   \n",
       "186463      NaN     NaN              NaN        NaN        NaN   \n",
       "\n",
       "       Purchase Address  \n",
       "664                 NaN  \n",
       "678                 NaN  \n",
       "797                 NaN  \n",
       "876                 NaN  \n",
       "1299                NaN  \n",
       "...                 ...  \n",
       "184678              NaN  \n",
       "184695              NaN  \n",
       "185042              NaN  \n",
       "185729              NaN  \n",
       "186463              NaN  \n",
       "\n",
       "[545 rows x 6 columns]"
      ]
     },
     "execution_count": 5,
     "metadata": {},
     "output_type": "execute_result"
    }
   ],
   "source": [
    "df[df.isnull().any(axis=1)]"
   ]
  },
  {
   "cell_type": "markdown",
   "metadata": {},
   "source": [
    "As expected, there are 545 rows filled with nulls. What's less expected is that they appear to be randomly distributed, based on a quick glance at the indices. I suppose I expected that they would occur at somewhat regular intervals, e.g. at the end of each of the monthly data files.\n",
    "\n",
    "Since we know that all the null-valued rows are completely useless, we can drop them:"
   ]
  },
  {
   "cell_type": "code",
   "execution_count": 6,
   "metadata": {
    "tags": []
   },
   "outputs": [],
   "source": [
    "df.dropna(inplace=True)"
   ]
  },
  {
   "cell_type": "code",
   "execution_count": 7,
   "metadata": {
    "tags": []
   },
   "outputs": [
    {
     "data": {
      "text/plain": [
       "Order ID            0\n",
       "Product             0\n",
       "Quantity Ordered    0\n",
       "Price Each          0\n",
       "Order Date          0\n",
       "Purchase Address    0\n",
       "dtype: int64"
      ]
     },
     "execution_count": 7,
     "metadata": {},
     "output_type": "execute_result"
    }
   ],
   "source": [
    "df.isnull().sum()"
   ]
  },
  {
   "cell_type": "markdown",
   "metadata": {},
   "source": [
    "Lovely. Now let's perform some other data quality checks."
   ]
  },
  {
   "cell_type": "markdown",
   "metadata": {},
   "source": [
    "### Data type consistency"
   ]
  },
  {
   "cell_type": "markdown",
   "metadata": {},
   "source": [
    "This is a tricky one, because, as we saw earlier, the DataFrame is filled with `string`s. We will have to try to convert each column to the data type it ought to have.\n",
    "\n",
    "Let's start with the `Order ID` column."
   ]
  },
  {
   "cell_type": "code",
   "execution_count": 8,
   "metadata": {
    "tags": []
   },
   "outputs": [
    {
     "data": {
      "text/html": [
       "<div>\n",
       "<style scoped>\n",
       "    .dataframe tbody tr th:only-of-type {\n",
       "        vertical-align: middle;\n",
       "    }\n",
       "\n",
       "    .dataframe tbody tr th {\n",
       "        vertical-align: top;\n",
       "    }\n",
       "\n",
       "    .dataframe thead th {\n",
       "        text-align: right;\n",
       "    }\n",
       "</style>\n",
       "<table border=\"1\" class=\"dataframe\">\n",
       "  <thead>\n",
       "    <tr style=\"text-align: right;\">\n",
       "      <th></th>\n",
       "      <th>Order ID</th>\n",
       "      <th>Product</th>\n",
       "      <th>Quantity Ordered</th>\n",
       "      <th>Price Each</th>\n",
       "      <th>Order Date</th>\n",
       "      <th>Purchase Address</th>\n",
       "    </tr>\n",
       "  </thead>\n",
       "  <tbody>\n",
       "    <tr>\n",
       "      <th>66636</th>\n",
       "      <td>204804</td>\n",
       "      <td>ThinkPad Laptop</td>\n",
       "      <td>1</td>\n",
       "      <td>999.99</td>\n",
       "      <td>05/15/19 09:14</td>\n",
       "      <td>102 Jefferson St, San Francisco, CA 94016</td>\n",
       "    </tr>\n",
       "    <tr>\n",
       "      <th>134239</th>\n",
       "      <td>269429</td>\n",
       "      <td>34in Ultrawide Monitor</td>\n",
       "      <td>1</td>\n",
       "      <td>379.99</td>\n",
       "      <td>10/17/19 16:47</td>\n",
       "      <td>578 Walnut St, San Francisco, CA 94016</td>\n",
       "    </tr>\n",
       "    <tr>\n",
       "      <th>175822</th>\n",
       "      <td>309106</td>\n",
       "      <td>Wired Headphones</td>\n",
       "      <td>1</td>\n",
       "      <td>11.99</td>\n",
       "      <td>12/16/19 22:39</td>\n",
       "      <td>879 Lake St, San Francisco, CA 94016</td>\n",
       "    </tr>\n",
       "    <tr>\n",
       "      <th>37831</th>\n",
       "      <td>177364</td>\n",
       "      <td>ThinkPad Laptop</td>\n",
       "      <td>1</td>\n",
       "      <td>999.99</td>\n",
       "      <td>04/29/19 15:59</td>\n",
       "      <td>938 Forest St, Los Angeles, CA 90001</td>\n",
       "    </tr>\n",
       "    <tr>\n",
       "      <th>136087</th>\n",
       "      <td>271189</td>\n",
       "      <td>Lightning Charging Cable</td>\n",
       "      <td>1</td>\n",
       "      <td>14.95</td>\n",
       "      <td>10/21/19 12:34</td>\n",
       "      <td>706 13th St, San Francisco, CA 94016</td>\n",
       "    </tr>\n",
       "    <tr>\n",
       "      <th>156343</th>\n",
       "      <td>290516</td>\n",
       "      <td>AA Batteries (4-pack)</td>\n",
       "      <td>2</td>\n",
       "      <td>3.84</td>\n",
       "      <td>11/16/19 18:43</td>\n",
       "      <td>696 Church St, San Francisco, CA 94016</td>\n",
       "    </tr>\n",
       "    <tr>\n",
       "      <th>55690</th>\n",
       "      <td>194396</td>\n",
       "      <td>Apple Airpods Headphones</td>\n",
       "      <td>1</td>\n",
       "      <td>150</td>\n",
       "      <td>05/14/19 02:41</td>\n",
       "      <td>788 8th St, San Francisco, CA 94016</td>\n",
       "    </tr>\n",
       "    <tr>\n",
       "      <th>123064</th>\n",
       "      <td>258760</td>\n",
       "      <td>AA Batteries (4-pack)</td>\n",
       "      <td>1</td>\n",
       "      <td>3.84</td>\n",
       "      <td>09/10/19 14:34</td>\n",
       "      <td>448 6th St, Atlanta, GA 30301</td>\n",
       "    </tr>\n",
       "    <tr>\n",
       "      <th>36695</th>\n",
       "      <td>176277</td>\n",
       "      <td>Google Phone</td>\n",
       "      <td>1</td>\n",
       "      <td>600</td>\n",
       "      <td>03/14/19 19:21</td>\n",
       "      <td>647 Dogwood St, New York City, NY 10001</td>\n",
       "    </tr>\n",
       "    <tr>\n",
       "      <th>114833</th>\n",
       "      <td>250858</td>\n",
       "      <td>USB-C Charging Cable</td>\n",
       "      <td>1</td>\n",
       "      <td>11.95</td>\n",
       "      <td>09/20/19 15:33</td>\n",
       "      <td>947 Lake St, Austin, TX 73301</td>\n",
       "    </tr>\n",
       "  </tbody>\n",
       "</table>\n",
       "</div>"
      ],
      "text/plain": [
       "       Order ID                   Product Quantity Ordered Price Each  \\\n",
       "66636    204804           ThinkPad Laptop                1     999.99   \n",
       "134239   269429    34in Ultrawide Monitor                1     379.99   \n",
       "175822   309106          Wired Headphones                1      11.99   \n",
       "37831    177364           ThinkPad Laptop                1     999.99   \n",
       "136087   271189  Lightning Charging Cable                1      14.95   \n",
       "156343   290516     AA Batteries (4-pack)                2       3.84   \n",
       "55690    194396  Apple Airpods Headphones                1        150   \n",
       "123064   258760     AA Batteries (4-pack)                1       3.84   \n",
       "36695    176277              Google Phone                1        600   \n",
       "114833   250858      USB-C Charging Cable                1      11.95   \n",
       "\n",
       "            Order Date                           Purchase Address  \n",
       "66636   05/15/19 09:14  102 Jefferson St, San Francisco, CA 94016  \n",
       "134239  10/17/19 16:47     578 Walnut St, San Francisco, CA 94016  \n",
       "175822  12/16/19 22:39       879 Lake St, San Francisco, CA 94016  \n",
       "37831   04/29/19 15:59       938 Forest St, Los Angeles, CA 90001  \n",
       "136087  10/21/19 12:34       706 13th St, San Francisco, CA 94016  \n",
       "156343  11/16/19 18:43     696 Church St, San Francisco, CA 94016  \n",
       "55690   05/14/19 02:41        788 8th St, San Francisco, CA 94016  \n",
       "123064  09/10/19 14:34              448 6th St, Atlanta, GA 30301  \n",
       "36695   03/14/19 19:21    647 Dogwood St, New York City, NY 10001  \n",
       "114833  09/20/19 15:33              947 Lake St, Austin, TX 73301  "
      ]
     },
     "execution_count": 8,
     "metadata": {},
     "output_type": "execute_result"
    }
   ],
   "source": [
    "df.sample(10)"
   ]
  },
  {
   "cell_type": "markdown",
   "metadata": {},
   "source": [
    "Looks like `Order ID` should have one of Python's integer data types. Let's see if any entries don't:"
   ]
  },
  {
   "cell_type": "code",
   "execution_count": 9,
   "metadata": {
    "tags": []
   },
   "outputs": [
    {
     "data": {
      "text/plain": [
       "Order ID            355\n",
       "Product             355\n",
       "Quantity Ordered    355\n",
       "Price Each          355\n",
       "Order Date          355\n",
       "Purchase Address    355\n",
       "dtype: int64"
      ]
     },
     "execution_count": 9,
     "metadata": {},
     "output_type": "execute_result"
    }
   ],
   "source": [
    "df[df[\"Order ID\"].str.isdecimal() == False].count()"
   ]
  },
  {
   "cell_type": "markdown",
   "metadata": {},
   "source": [
    "Fascinating! Looks like 355 rows contain non-numeric values in every column. Let's check them out."
   ]
  },
  {
   "cell_type": "code",
   "execution_count": 10,
   "metadata": {
    "tags": []
   },
   "outputs": [
    {
     "data": {
      "text/html": [
       "<div>\n",
       "<style scoped>\n",
       "    .dataframe tbody tr th:only-of-type {\n",
       "        vertical-align: middle;\n",
       "    }\n",
       "\n",
       "    .dataframe tbody tr th {\n",
       "        vertical-align: top;\n",
       "    }\n",
       "\n",
       "    .dataframe thead th {\n",
       "        text-align: right;\n",
       "    }\n",
       "</style>\n",
       "<table border=\"1\" class=\"dataframe\">\n",
       "  <thead>\n",
       "    <tr style=\"text-align: right;\">\n",
       "      <th></th>\n",
       "      <th>Order ID</th>\n",
       "      <th>Product</th>\n",
       "      <th>Quantity Ordered</th>\n",
       "      <th>Price Each</th>\n",
       "      <th>Order Date</th>\n",
       "      <th>Purchase Address</th>\n",
       "    </tr>\n",
       "  </thead>\n",
       "  <tbody>\n",
       "    <tr>\n",
       "      <th>26579</th>\n",
       "      <td>Order ID</td>\n",
       "      <td>Product</td>\n",
       "      <td>Quantity Ordered</td>\n",
       "      <td>Price Each</td>\n",
       "      <td>Order Date</td>\n",
       "      <td>Purchase Address</td>\n",
       "    </tr>\n",
       "    <tr>\n",
       "      <th>54309</th>\n",
       "      <td>Order ID</td>\n",
       "      <td>Product</td>\n",
       "      <td>Quantity Ordered</td>\n",
       "      <td>Price Each</td>\n",
       "      <td>Order Date</td>\n",
       "      <td>Purchase Address</td>\n",
       "    </tr>\n",
       "    <tr>\n",
       "      <th>75215</th>\n",
       "      <td>Order ID</td>\n",
       "      <td>Product</td>\n",
       "      <td>Quantity Ordered</td>\n",
       "      <td>Price Each</td>\n",
       "      <td>Order Date</td>\n",
       "      <td>Purchase Address</td>\n",
       "    </tr>\n",
       "    <tr>\n",
       "      <th>102300</th>\n",
       "      <td>Order ID</td>\n",
       "      <td>Product</td>\n",
       "      <td>Quantity Ordered</td>\n",
       "      <td>Price Each</td>\n",
       "      <td>Order Date</td>\n",
       "      <td>Purchase Address</td>\n",
       "    </tr>\n",
       "    <tr>\n",
       "      <th>76880</th>\n",
       "      <td>Order ID</td>\n",
       "      <td>Product</td>\n",
       "      <td>Quantity Ordered</td>\n",
       "      <td>Price Each</td>\n",
       "      <td>Order Date</td>\n",
       "      <td>Purchase Address</td>\n",
       "    </tr>\n",
       "    <tr>\n",
       "      <th>1194</th>\n",
       "      <td>Order ID</td>\n",
       "      <td>Product</td>\n",
       "      <td>Quantity Ordered</td>\n",
       "      <td>Price Each</td>\n",
       "      <td>Order Date</td>\n",
       "      <td>Purchase Address</td>\n",
       "    </tr>\n",
       "    <tr>\n",
       "      <th>3612</th>\n",
       "      <td>Order ID</td>\n",
       "      <td>Product</td>\n",
       "      <td>Quantity Ordered</td>\n",
       "      <td>Price Each</td>\n",
       "      <td>Order Date</td>\n",
       "      <td>Purchase Address</td>\n",
       "    </tr>\n",
       "    <tr>\n",
       "      <th>62752</th>\n",
       "      <td>Order ID</td>\n",
       "      <td>Product</td>\n",
       "      <td>Quantity Ordered</td>\n",
       "      <td>Price Each</td>\n",
       "      <td>Order Date</td>\n",
       "      <td>Purchase Address</td>\n",
       "    </tr>\n",
       "    <tr>\n",
       "      <th>66519</th>\n",
       "      <td>Order ID</td>\n",
       "      <td>Product</td>\n",
       "      <td>Quantity Ordered</td>\n",
       "      <td>Price Each</td>\n",
       "      <td>Order Date</td>\n",
       "      <td>Purchase Address</td>\n",
       "    </tr>\n",
       "    <tr>\n",
       "      <th>93423</th>\n",
       "      <td>Order ID</td>\n",
       "      <td>Product</td>\n",
       "      <td>Quantity Ordered</td>\n",
       "      <td>Price Each</td>\n",
       "      <td>Order Date</td>\n",
       "      <td>Purchase Address</td>\n",
       "    </tr>\n",
       "  </tbody>\n",
       "</table>\n",
       "</div>"
      ],
      "text/plain": [
       "        Order ID  Product  Quantity Ordered  Price Each  Order Date  \\\n",
       "26579   Order ID  Product  Quantity Ordered  Price Each  Order Date   \n",
       "54309   Order ID  Product  Quantity Ordered  Price Each  Order Date   \n",
       "75215   Order ID  Product  Quantity Ordered  Price Each  Order Date   \n",
       "102300  Order ID  Product  Quantity Ordered  Price Each  Order Date   \n",
       "76880   Order ID  Product  Quantity Ordered  Price Each  Order Date   \n",
       "1194    Order ID  Product  Quantity Ordered  Price Each  Order Date   \n",
       "3612    Order ID  Product  Quantity Ordered  Price Each  Order Date   \n",
       "62752   Order ID  Product  Quantity Ordered  Price Each  Order Date   \n",
       "66519   Order ID  Product  Quantity Ordered  Price Each  Order Date   \n",
       "93423   Order ID  Product  Quantity Ordered  Price Each  Order Date   \n",
       "\n",
       "        Purchase Address  \n",
       "26579   Purchase Address  \n",
       "54309   Purchase Address  \n",
       "75215   Purchase Address  \n",
       "102300  Purchase Address  \n",
       "76880   Purchase Address  \n",
       "1194    Purchase Address  \n",
       "3612    Purchase Address  \n",
       "62752   Purchase Address  \n",
       "66519   Purchase Address  \n",
       "93423   Purchase Address  "
      ]
     },
     "execution_count": 10,
     "metadata": {},
     "output_type": "execute_result"
    }
   ],
   "source": [
    "df[df[\"Order ID\"].str.isdecimal() == False].sample(10)"
   ]
  },
  {
   "cell_type": "markdown",
   "metadata": {},
   "source": [
    "I wonder how that might have happened. Then again, this being a contrived dataset, I suppose the important thing is that we are careful to spot these things, rather than why; without knowing how the data was generated, it's almost certain that these rows were programmatically placed in the dataset.\n",
    "\n",
    "Regardless, let's get rid of them."
   ]
  },
  {
   "cell_type": "code",
   "execution_count": 11,
   "metadata": {
    "tags": []
   },
   "outputs": [
    {
     "data": {
      "text/html": [
       "<div>\n",
       "<style scoped>\n",
       "    .dataframe tbody tr th:only-of-type {\n",
       "        vertical-align: middle;\n",
       "    }\n",
       "\n",
       "    .dataframe tbody tr th {\n",
       "        vertical-align: top;\n",
       "    }\n",
       "\n",
       "    .dataframe thead th {\n",
       "        text-align: right;\n",
       "    }\n",
       "</style>\n",
       "<table border=\"1\" class=\"dataframe\">\n",
       "  <thead>\n",
       "    <tr style=\"text-align: right;\">\n",
       "      <th></th>\n",
       "      <th>Order ID</th>\n",
       "      <th>Product</th>\n",
       "      <th>Quantity Ordered</th>\n",
       "      <th>Price Each</th>\n",
       "      <th>Order Date</th>\n",
       "      <th>Purchase Address</th>\n",
       "    </tr>\n",
       "  </thead>\n",
       "  <tbody>\n",
       "    <tr>\n",
       "      <th>0</th>\n",
       "      <td>141234</td>\n",
       "      <td>iPhone</td>\n",
       "      <td>1</td>\n",
       "      <td>700</td>\n",
       "      <td>01/22/19 21:25</td>\n",
       "      <td>944 Walnut St, Boston, MA 02215</td>\n",
       "    </tr>\n",
       "    <tr>\n",
       "      <th>1</th>\n",
       "      <td>141235</td>\n",
       "      <td>Lightning Charging Cable</td>\n",
       "      <td>1</td>\n",
       "      <td>14.95</td>\n",
       "      <td>01/28/19 14:15</td>\n",
       "      <td>185 Maple St, Portland, OR 97035</td>\n",
       "    </tr>\n",
       "    <tr>\n",
       "      <th>2</th>\n",
       "      <td>141236</td>\n",
       "      <td>Wired Headphones</td>\n",
       "      <td>2</td>\n",
       "      <td>11.99</td>\n",
       "      <td>01/17/19 13:33</td>\n",
       "      <td>538 Adams St, San Francisco, CA 94016</td>\n",
       "    </tr>\n",
       "    <tr>\n",
       "      <th>3</th>\n",
       "      <td>141237</td>\n",
       "      <td>27in FHD Monitor</td>\n",
       "      <td>1</td>\n",
       "      <td>149.99</td>\n",
       "      <td>01/05/19 20:33</td>\n",
       "      <td>738 10th St, Los Angeles, CA 90001</td>\n",
       "    </tr>\n",
       "    <tr>\n",
       "      <th>4</th>\n",
       "      <td>141238</td>\n",
       "      <td>Wired Headphones</td>\n",
       "      <td>1</td>\n",
       "      <td>11.99</td>\n",
       "      <td>01/25/19 11:59</td>\n",
       "      <td>387 10th St, Austin, TX 73301</td>\n",
       "    </tr>\n",
       "    <tr>\n",
       "      <th>...</th>\n",
       "      <td>...</td>\n",
       "      <td>...</td>\n",
       "      <td>...</td>\n",
       "      <td>...</td>\n",
       "      <td>...</td>\n",
       "      <td>...</td>\n",
       "    </tr>\n",
       "    <tr>\n",
       "      <th>186845</th>\n",
       "      <td>319666</td>\n",
       "      <td>Lightning Charging Cable</td>\n",
       "      <td>1</td>\n",
       "      <td>14.95</td>\n",
       "      <td>12/11/19 20:58</td>\n",
       "      <td>14 Madison St, San Francisco, CA 94016</td>\n",
       "    </tr>\n",
       "    <tr>\n",
       "      <th>186846</th>\n",
       "      <td>319667</td>\n",
       "      <td>AA Batteries (4-pack)</td>\n",
       "      <td>2</td>\n",
       "      <td>3.84</td>\n",
       "      <td>12/01/19 12:01</td>\n",
       "      <td>549 Willow St, Los Angeles, CA 90001</td>\n",
       "    </tr>\n",
       "    <tr>\n",
       "      <th>186847</th>\n",
       "      <td>319668</td>\n",
       "      <td>Vareebadd Phone</td>\n",
       "      <td>1</td>\n",
       "      <td>400</td>\n",
       "      <td>12/09/19 06:43</td>\n",
       "      <td>273 Wilson St, Seattle, WA 98101</td>\n",
       "    </tr>\n",
       "    <tr>\n",
       "      <th>186848</th>\n",
       "      <td>319669</td>\n",
       "      <td>Wired Headphones</td>\n",
       "      <td>1</td>\n",
       "      <td>11.99</td>\n",
       "      <td>12/03/19 10:39</td>\n",
       "      <td>778 River St, Dallas, TX 75001</td>\n",
       "    </tr>\n",
       "    <tr>\n",
       "      <th>186849</th>\n",
       "      <td>319670</td>\n",
       "      <td>Bose SoundSport Headphones</td>\n",
       "      <td>1</td>\n",
       "      <td>99.99</td>\n",
       "      <td>12/21/19 21:45</td>\n",
       "      <td>747 Chestnut St, Los Angeles, CA 90001</td>\n",
       "    </tr>\n",
       "  </tbody>\n",
       "</table>\n",
       "<p>185950 rows × 6 columns</p>\n",
       "</div>"
      ],
      "text/plain": [
       "       Order ID                     Product Quantity Ordered Price Each  \\\n",
       "0        141234                      iPhone                1        700   \n",
       "1        141235    Lightning Charging Cable                1      14.95   \n",
       "2        141236            Wired Headphones                2      11.99   \n",
       "3        141237            27in FHD Monitor                1     149.99   \n",
       "4        141238            Wired Headphones                1      11.99   \n",
       "...         ...                         ...              ...        ...   \n",
       "186845   319666    Lightning Charging Cable                1      14.95   \n",
       "186846   319667       AA Batteries (4-pack)                2       3.84   \n",
       "186847   319668             Vareebadd Phone                1        400   \n",
       "186848   319669            Wired Headphones                1      11.99   \n",
       "186849   319670  Bose SoundSport Headphones                1      99.99   \n",
       "\n",
       "            Order Date                        Purchase Address  \n",
       "0       01/22/19 21:25         944 Walnut St, Boston, MA 02215  \n",
       "1       01/28/19 14:15        185 Maple St, Portland, OR 97035  \n",
       "2       01/17/19 13:33   538 Adams St, San Francisco, CA 94016  \n",
       "3       01/05/19 20:33      738 10th St, Los Angeles, CA 90001  \n",
       "4       01/25/19 11:59           387 10th St, Austin, TX 73301  \n",
       "...                ...                                     ...  \n",
       "186845  12/11/19 20:58  14 Madison St, San Francisco, CA 94016  \n",
       "186846  12/01/19 12:01    549 Willow St, Los Angeles, CA 90001  \n",
       "186847  12/09/19 06:43        273 Wilson St, Seattle, WA 98101  \n",
       "186848  12/03/19 10:39          778 River St, Dallas, TX 75001  \n",
       "186849  12/21/19 21:45  747 Chestnut St, Los Angeles, CA 90001  \n",
       "\n",
       "[185950 rows x 6 columns]"
      ]
     },
     "execution_count": 11,
     "metadata": {},
     "output_type": "execute_result"
    }
   ],
   "source": [
    "df = df[df[\"Order ID\"].str.isdecimal()]\n",
    "df"
   ]
  },
  {
   "cell_type": "markdown",
   "metadata": {},
   "source": [
    "Now let's run the check again."
   ]
  },
  {
   "cell_type": "code",
   "execution_count": 12,
   "metadata": {
    "tags": []
   },
   "outputs": [
    {
     "data": {
      "text/plain": [
       "Order ID            0\n",
       "Product             0\n",
       "Quantity Ordered    0\n",
       "Price Each          0\n",
       "Order Date          0\n",
       "Purchase Address    0\n",
       "dtype: int64"
      ]
     },
     "execution_count": 12,
     "metadata": {},
     "output_type": "execute_result"
    }
   ],
   "source": [
    "df[df[\"Order ID\"].str.isdecimal() == False].count()"
   ]
  },
  {
   "cell_type": "markdown",
   "metadata": {},
   "source": [
    "And now the same check with other columns:"
   ]
  },
  {
   "cell_type": "code",
   "execution_count": 13,
   "metadata": {
    "tags": []
   },
   "outputs": [
    {
     "data": {
      "text/plain": [
       "Order ID            0\n",
       "Product             0\n",
       "Quantity Ordered    0\n",
       "Price Each          0\n",
       "Order Date          0\n",
       "Purchase Address    0\n",
       "dtype: int64"
      ]
     },
     "execution_count": 13,
     "metadata": {},
     "output_type": "execute_result"
    }
   ],
   "source": [
    "df[df[\"Quantity Ordered\"].str.isdecimal() == False].count()"
   ]
  },
  {
   "cell_type": "code",
   "execution_count": 14,
   "metadata": {
    "tags": []
   },
   "outputs": [
    {
     "data": {
      "text/plain": [
       "Order ID            0\n",
       "Product             0\n",
       "Quantity Ordered    0\n",
       "Price Each          0\n",
       "Order Date          0\n",
       "Purchase Address    0\n",
       "dtype: int64"
      ]
     },
     "execution_count": 14,
     "metadata": {},
     "output_type": "execute_result"
    }
   ],
   "source": [
    "df[df[\"Price Each\"].str.replace(\".\", \"\").str.isnumeric() == False].count()"
   ]
  },
  {
   "cell_type": "markdown",
   "metadata": {},
   "source": [
    "Looks good so far. In order to verify that the `Order Date` column contains only date strings, we'll use the `parse` function from the `dateutil.parser` module."
   ]
  },
  {
   "cell_type": "code",
   "execution_count": 15,
   "metadata": {
    "tags": []
   },
   "outputs": [],
   "source": [
    "from dateutil.parser import parse"
   ]
  },
  {
   "cell_type": "markdown",
   "metadata": {},
   "source": [
    "We'll also write a simple function to handle parsing errors by returning `False`, returning `True` for each successful parse:"
   ]
  },
  {
   "cell_type": "code",
   "execution_count": 16,
   "metadata": {
    "tags": []
   },
   "outputs": [],
   "source": [
    "def is_date(s):\n",
    "    try:\n",
    "        parse(s, fuzzy=True)\n",
    "        return True\n",
    "    except:\n",
    "        return False"
   ]
  },
  {
   "cell_type": "markdown",
   "metadata": {},
   "source": [
    "Specifying `fuzzy=True` saves us the trouble of going through the data and ensuring all the valid date strings use the same format.\n",
    "\n",
    "Now we can check the `Order Date` column entries by calling `is_date()`, passing the entry string as the argument `s`:"
   ]
  },
  {
   "cell_type": "code",
   "execution_count": 17,
   "metadata": {
    "tags": []
   },
   "outputs": [
    {
     "data": {
      "text/plain": [
       "Order ID            0\n",
       "Product             0\n",
       "Quantity Ordered    0\n",
       "Price Each          0\n",
       "Order Date          0\n",
       "Purchase Address    0\n",
       "dtype: int64"
      ]
     },
     "execution_count": 17,
     "metadata": {},
     "output_type": "execute_result"
    }
   ],
   "source": [
    "df[[not is_date(s) for s in df[\"Order Date\"]]].count()"
   ]
  },
  {
   "cell_type": "markdown",
   "metadata": {},
   "source": [
    "Excellent. Looks like all values are accounted for and everything can be converted to its proper type! We'll do that before running some more data quality checks."
   ]
  },
  {
   "cell_type": "markdown",
   "metadata": {},
   "source": [
    "## Data type conversion"
   ]
  },
  {
   "cell_type": "code",
   "execution_count": 18,
   "metadata": {
    "tags": []
   },
   "outputs": [],
   "source": [
    "try:\n",
    "    df[\"Order ID\"] = df[\"Order ID\"].astype(int)\n",
    "    df[\"Quantity Ordered\"] = df[\"Quantity Ordered\"].astype(int)\n",
    "    df[\"Price Each\"] = df[\"Price Each\"].astype(float)\n",
    "    df[\"Order Date\"] = pd.to_datetime(df[\"Order Date\"], format=\"%m/%d/%y %H:%M\")\n",
    "except ValueError:\n",
    "    print(\"Couldn't convert a value.\")"
   ]
  },
  {
   "cell_type": "code",
   "execution_count": 19,
   "metadata": {
    "tags": []
   },
   "outputs": [
    {
     "name": "stdout",
     "output_type": "stream",
     "text": [
      "<class 'pandas.core.frame.DataFrame'>\n",
      "Index: 185950 entries, 0 to 186849\n",
      "Data columns (total 6 columns):\n",
      " #   Column            Non-Null Count   Dtype         \n",
      "---  ------            --------------   -----         \n",
      " 0   Order ID          185950 non-null  int32         \n",
      " 1   Product           185950 non-null  object        \n",
      " 2   Quantity Ordered  185950 non-null  int32         \n",
      " 3   Price Each        185950 non-null  float64       \n",
      " 4   Order Date        185950 non-null  datetime64[ns]\n",
      " 5   Purchase Address  185950 non-null  object        \n",
      "dtypes: datetime64[ns](1), float64(1), int32(2), object(2)\n",
      "memory usage: 8.5+ MB\n"
     ]
    }
   ],
   "source": [
    "df.info()"
   ]
  },
  {
   "cell_type": "code",
   "execution_count": 20,
   "metadata": {
    "tags": []
   },
   "outputs": [
    {
     "data": {
      "text/html": [
       "<div>\n",
       "<style scoped>\n",
       "    .dataframe tbody tr th:only-of-type {\n",
       "        vertical-align: middle;\n",
       "    }\n",
       "\n",
       "    .dataframe tbody tr th {\n",
       "        vertical-align: top;\n",
       "    }\n",
       "\n",
       "    .dataframe thead th {\n",
       "        text-align: right;\n",
       "    }\n",
       "</style>\n",
       "<table border=\"1\" class=\"dataframe\">\n",
       "  <thead>\n",
       "    <tr style=\"text-align: right;\">\n",
       "      <th></th>\n",
       "      <th>Order ID</th>\n",
       "      <th>Product</th>\n",
       "      <th>Quantity Ordered</th>\n",
       "      <th>Price Each</th>\n",
       "      <th>Order Date</th>\n",
       "      <th>Purchase Address</th>\n",
       "    </tr>\n",
       "  </thead>\n",
       "  <tbody>\n",
       "    <tr>\n",
       "      <th>89570</th>\n",
       "      <td>226680</td>\n",
       "      <td>USB-C Charging Cable</td>\n",
       "      <td>1</td>\n",
       "      <td>11.95</td>\n",
       "      <td>2019-07-04 18:03:00</td>\n",
       "      <td>108 Ridge St, Austin, TX 73301</td>\n",
       "    </tr>\n",
       "    <tr>\n",
       "      <th>117604</th>\n",
       "      <td>253523</td>\n",
       "      <td>USB-C Charging Cable</td>\n",
       "      <td>1</td>\n",
       "      <td>11.95</td>\n",
       "      <td>2019-09-01 17:51:00</td>\n",
       "      <td>690 Hickory St, San Francisco, CA 94016</td>\n",
       "    </tr>\n",
       "    <tr>\n",
       "      <th>21876</th>\n",
       "      <td>162118</td>\n",
       "      <td>iPhone</td>\n",
       "      <td>1</td>\n",
       "      <td>700.00</td>\n",
       "      <td>2019-03-10 22:32:00</td>\n",
       "      <td>888 13th St, San Francisco, CA 94016</td>\n",
       "    </tr>\n",
       "    <tr>\n",
       "      <th>159098</th>\n",
       "      <td>293156</td>\n",
       "      <td>Google Phone</td>\n",
       "      <td>1</td>\n",
       "      <td>600.00</td>\n",
       "      <td>2019-11-06 09:47:00</td>\n",
       "      <td>319 Meadow St, Portland, OR 97035</td>\n",
       "    </tr>\n",
       "    <tr>\n",
       "      <th>78562</th>\n",
       "      <td>216157</td>\n",
       "      <td>Bose SoundSport Headphones</td>\n",
       "      <td>1</td>\n",
       "      <td>99.99</td>\n",
       "      <td>2019-06-09 19:51:00</td>\n",
       "      <td>999 5th St, Los Angeles, CA 90001</td>\n",
       "    </tr>\n",
       "    <tr>\n",
       "      <th>77124</th>\n",
       "      <td>214777</td>\n",
       "      <td>AA Batteries (4-pack)</td>\n",
       "      <td>2</td>\n",
       "      <td>3.84</td>\n",
       "      <td>2019-06-28 15:13:00</td>\n",
       "      <td>904 Walnut St, San Francisco, CA 94016</td>\n",
       "    </tr>\n",
       "    <tr>\n",
       "      <th>175122</th>\n",
       "      <td>308440</td>\n",
       "      <td>Lightning Charging Cable</td>\n",
       "      <td>1</td>\n",
       "      <td>14.95</td>\n",
       "      <td>2019-12-07 21:00:00</td>\n",
       "      <td>367 Maple St, Los Angeles, CA 90001</td>\n",
       "    </tr>\n",
       "    <tr>\n",
       "      <th>132143</th>\n",
       "      <td>267425</td>\n",
       "      <td>Wired Headphones</td>\n",
       "      <td>2</td>\n",
       "      <td>11.99</td>\n",
       "      <td>2019-10-02 13:29:00</td>\n",
       "      <td>724 Willow St, Los Angeles, CA 90001</td>\n",
       "    </tr>\n",
       "    <tr>\n",
       "      <th>185200</th>\n",
       "      <td>318085</td>\n",
       "      <td>USB-C Charging Cable</td>\n",
       "      <td>1</td>\n",
       "      <td>11.95</td>\n",
       "      <td>2019-12-07 19:04:00</td>\n",
       "      <td>759 12th St, New York City, NY 10001</td>\n",
       "    </tr>\n",
       "    <tr>\n",
       "      <th>171845</th>\n",
       "      <td>305311</td>\n",
       "      <td>27in FHD Monitor</td>\n",
       "      <td>1</td>\n",
       "      <td>149.99</td>\n",
       "      <td>2019-12-10 21:08:00</td>\n",
       "      <td>833 Jefferson St, Dallas, TX 75001</td>\n",
       "    </tr>\n",
       "  </tbody>\n",
       "</table>\n",
       "</div>"
      ],
      "text/plain": [
       "        Order ID                     Product  Quantity Ordered  Price Each  \\\n",
       "89570     226680        USB-C Charging Cable                 1       11.95   \n",
       "117604    253523        USB-C Charging Cable                 1       11.95   \n",
       "21876     162118                      iPhone                 1      700.00   \n",
       "159098    293156                Google Phone                 1      600.00   \n",
       "78562     216157  Bose SoundSport Headphones                 1       99.99   \n",
       "77124     214777       AA Batteries (4-pack)                 2        3.84   \n",
       "175122    308440    Lightning Charging Cable                 1       14.95   \n",
       "132143    267425            Wired Headphones                 2       11.99   \n",
       "185200    318085        USB-C Charging Cable                 1       11.95   \n",
       "171845    305311            27in FHD Monitor                 1      149.99   \n",
       "\n",
       "                Order Date                         Purchase Address  \n",
       "89570  2019-07-04 18:03:00           108 Ridge St, Austin, TX 73301  \n",
       "117604 2019-09-01 17:51:00  690 Hickory St, San Francisco, CA 94016  \n",
       "21876  2019-03-10 22:32:00     888 13th St, San Francisco, CA 94016  \n",
       "159098 2019-11-06 09:47:00        319 Meadow St, Portland, OR 97035  \n",
       "78562  2019-06-09 19:51:00        999 5th St, Los Angeles, CA 90001  \n",
       "77124  2019-06-28 15:13:00   904 Walnut St, San Francisco, CA 94016  \n",
       "175122 2019-12-07 21:00:00      367 Maple St, Los Angeles, CA 90001  \n",
       "132143 2019-10-02 13:29:00     724 Willow St, Los Angeles, CA 90001  \n",
       "185200 2019-12-07 19:04:00     759 12th St, New York City, NY 10001  \n",
       "171845 2019-12-10 21:08:00       833 Jefferson St, Dallas, TX 75001  "
      ]
     },
     "execution_count": 20,
     "metadata": {},
     "output_type": "execute_result"
    }
   ],
   "source": [
    "df.sample(10)"
   ]
  },
  {
   "cell_type": "markdown",
   "metadata": {},
   "source": [
    "Marvelous."
   ]
  },
  {
   "cell_type": "markdown",
   "metadata": {},
   "source": [
    "## Data quality checks, continued"
   ]
  },
  {
   "cell_type": "markdown",
   "metadata": {},
   "source": [
    "Now that we have data in the right format, let's make sure it's _good_ data, using a combination of data visualization and text output.\n",
    "\n",
    "Note: this will \"void the warranty,\" so to speak, of our data, in the sense that once we've performed these checks, we will have performed so many tests on the data that we can no longer run traditional hypothesis tests due to the [multiple comparisons problem](https://en.wikipedia.org/wiki/Multiple_comparisons_problem). The multiple comparisons problem will arise because every time we compare two variables or see the sample distribution of a variable, we will essentially have performed a hypothesis test on it. As more and more hypothesis tests are run on a set of data, the more likely it is that a spurious correlation, or a correlation that has arisen purely due to coincidence and doesn't exist in reality, will be encountered. There are ways (corrections) to account for that (see the \"Controlling procedures\" section of the linked Wikipedia page), but a) it's not the same as having \"fresh\" data, and b) we are not particularly interested in testing any hypotheses at the moment. In fact, analyzing this data is largely what will _lead_ to hypotheses we want to test! We just won't be able to test them, unless we can get another set of data from the same store, collected the same way as this data."
   ]
  },
  {
   "cell_type": "markdown",
   "metadata": {
    "tags": []
   },
   "source": [
    "First, let's use the `pandas.DataFrame.describe()` method to get a quick overview of the data."
   ]
  },
  {
   "cell_type": "markdown",
   "metadata": {},
   "source": [
    "### General information"
   ]
  },
  {
   "cell_type": "code",
   "execution_count": 21,
   "metadata": {
    "tags": []
   },
   "outputs": [
    {
     "data": {
      "text/html": [
       "<div>\n",
       "<style scoped>\n",
       "    .dataframe tbody tr th:only-of-type {\n",
       "        vertical-align: middle;\n",
       "    }\n",
       "\n",
       "    .dataframe tbody tr th {\n",
       "        vertical-align: top;\n",
       "    }\n",
       "\n",
       "    .dataframe thead th {\n",
       "        text-align: right;\n",
       "    }\n",
       "</style>\n",
       "<table border=\"1\" class=\"dataframe\">\n",
       "  <thead>\n",
       "    <tr style=\"text-align: right;\">\n",
       "      <th></th>\n",
       "      <th>Order ID</th>\n",
       "      <th>Quantity Ordered</th>\n",
       "      <th>Price Each</th>\n",
       "      <th>Order Date</th>\n",
       "    </tr>\n",
       "  </thead>\n",
       "  <tbody>\n",
       "    <tr>\n",
       "      <th>count</th>\n",
       "      <td>185950.000000</td>\n",
       "      <td>185950.000000</td>\n",
       "      <td>185950.000000</td>\n",
       "      <td>185950</td>\n",
       "    </tr>\n",
       "    <tr>\n",
       "      <th>mean</th>\n",
       "      <td>230417.569379</td>\n",
       "      <td>1.124383</td>\n",
       "      <td>184.399735</td>\n",
       "      <td>2019-07-18 21:54:38.887550208</td>\n",
       "    </tr>\n",
       "    <tr>\n",
       "      <th>min</th>\n",
       "      <td>141234.000000</td>\n",
       "      <td>1.000000</td>\n",
       "      <td>2.990000</td>\n",
       "      <td>2019-01-01 03:07:00</td>\n",
       "    </tr>\n",
       "    <tr>\n",
       "      <th>25%</th>\n",
       "      <td>185831.250000</td>\n",
       "      <td>1.000000</td>\n",
       "      <td>11.950000</td>\n",
       "      <td>2019-04-16 21:05:15</td>\n",
       "    </tr>\n",
       "    <tr>\n",
       "      <th>50%</th>\n",
       "      <td>230367.500000</td>\n",
       "      <td>1.000000</td>\n",
       "      <td>14.950000</td>\n",
       "      <td>2019-07-17 20:40:30</td>\n",
       "    </tr>\n",
       "    <tr>\n",
       "      <th>75%</th>\n",
       "      <td>275035.750000</td>\n",
       "      <td>1.000000</td>\n",
       "      <td>150.000000</td>\n",
       "      <td>2019-10-26 08:14:00</td>\n",
       "    </tr>\n",
       "    <tr>\n",
       "      <th>max</th>\n",
       "      <td>319670.000000</td>\n",
       "      <td>9.000000</td>\n",
       "      <td>1700.000000</td>\n",
       "      <td>2020-01-01 05:13:00</td>\n",
       "    </tr>\n",
       "    <tr>\n",
       "      <th>std</th>\n",
       "      <td>51512.737110</td>\n",
       "      <td>0.442793</td>\n",
       "      <td>332.731330</td>\n",
       "      <td>NaN</td>\n",
       "    </tr>\n",
       "  </tbody>\n",
       "</table>\n",
       "</div>"
      ],
      "text/plain": [
       "            Order ID  Quantity Ordered     Price Each  \\\n",
       "count  185950.000000     185950.000000  185950.000000   \n",
       "mean   230417.569379          1.124383     184.399735   \n",
       "min    141234.000000          1.000000       2.990000   \n",
       "25%    185831.250000          1.000000      11.950000   \n",
       "50%    230367.500000          1.000000      14.950000   \n",
       "75%    275035.750000          1.000000     150.000000   \n",
       "max    319670.000000          9.000000    1700.000000   \n",
       "std     51512.737110          0.442793     332.731330   \n",
       "\n",
       "                          Order Date  \n",
       "count                         185950  \n",
       "mean   2019-07-18 21:54:38.887550208  \n",
       "min              2019-01-01 03:07:00  \n",
       "25%              2019-04-16 21:05:15  \n",
       "50%              2019-07-17 20:40:30  \n",
       "75%              2019-10-26 08:14:00  \n",
       "max              2020-01-01 05:13:00  \n",
       "std                              NaN  "
      ]
     },
     "execution_count": 21,
     "metadata": {},
     "output_type": "execute_result"
    }
   ],
   "source": [
    "df.describe()"
   ]
  },
  {
   "cell_type": "markdown",
   "metadata": {},
   "source": [
    "Here are a few observations we can make based on just this:\n",
    "1. The maximum `Quantity Ordered` is 9, yet the 75th percentile is 1; this means that more than one of an items is ordered less than 25% of the time. This is further supported by the standard deviation of `Quantity Ordered` being only ~0.44.\n",
    "2. The most expensive item in the store costs \\\\$1,700.\n",
    "3. There is an order on the first of January, 2020 &mdash; we should get rid of that data point (as well as any others that do not take place in 2019) to confine ourselves purely to 2019 data.\n",
    "4. Order dates are pretty evenly distributed: the minimum is January 1, the first quartile is mid April, the median is late-mid July, the third quartile is late October, and the maximum, is the first day of the new year."
   ]
  },
  {
   "cell_type": "markdown",
   "metadata": {},
   "source": [
    "Now let's perform some simple visual analyses on each numeric column's distribution, and see what we can learn."
   ]
  },
  {
   "cell_type": "markdown",
   "metadata": {},
   "source": [
    "### Data distributions"
   ]
  },
  {
   "cell_type": "code",
   "execution_count": 22,
   "metadata": {
    "tags": []
   },
   "outputs": [
    {
     "data": {
      "text/plain": [
       "array([[<Axes: title={'center': 'Quantity Ordered'}>,\n",
       "        <Axes: title={'center': 'Price Each'}>],\n",
       "       [<Axes: title={'center': 'Order Date'}>, <Axes: >]], dtype=object)"
      ]
     },
     "execution_count": 22,
     "metadata": {},
     "output_type": "execute_result"
    },
    {
     "data": {
      "image/png": "[encoded data removed]",
      "text/plain": [
       "<Figure size 640x480 with 4 Axes>"
      ]
     },
     "metadata": {},
     "output_type": "display_data"
    }
   ],
   "source": [
    "df[[\"Quantity Ordered\", \"Price Each\", \"Order Date\"]].hist()"
   ]
  },
  {
   "cell_type": "markdown",
   "metadata": {},
   "source": [
    "Rough, but informative.\n",
    "\n",
    "The distribution of the values in the `Quantity Ordered` column confirms our earlier inference that most orders contain a single item. The histogram additionally tells us that hardly any orders contain more than three of any item.\n",
    "\n",
    "The `Order Date` distribution tells us how busy the store was during various times of the year. That end-of-year peak could mean that the store's sales are on the rise year-over-year, but I suspect it's more likely to be explained by the fact that December incentives shopping, due to Christmas, Boxing Day, and the New Year. We would need to see data for January and a bit later of 2020 to be certain.\n",
    "\n",
    "The `Price Each` histogram is particularly interesting. Inexpensive items comprise the vast majority of orders, which makes sense, but there is an out-of-place bump in sales of items costing more than \\\\$1,500. Why? Let's see what items have a price greater than \\\\$1,500 and see if we can infer the reason."
   ]
  },
  {
   "cell_type": "code",
   "execution_count": 23,
   "metadata": {
    "tags": []
   },
   "outputs": [
    {
     "data": {
      "text/html": [
       "<div>\n",
       "<style scoped>\n",
       "    .dataframe tbody tr th:only-of-type {\n",
       "        vertical-align: middle;\n",
       "    }\n",
       "\n",
       "    .dataframe tbody tr th {\n",
       "        vertical-align: top;\n",
       "    }\n",
       "\n",
       "    .dataframe thead th {\n",
       "        text-align: right;\n",
       "    }\n",
       "</style>\n",
       "<table border=\"1\" class=\"dataframe\">\n",
       "  <thead>\n",
       "    <tr style=\"text-align: right;\">\n",
       "      <th></th>\n",
       "      <th>Order ID</th>\n",
       "      <th>Product</th>\n",
       "      <th>Quantity Ordered</th>\n",
       "      <th>Price Each</th>\n",
       "      <th>Order Date</th>\n",
       "      <th>Purchase Address</th>\n",
       "    </tr>\n",
       "  </thead>\n",
       "  <tbody>\n",
       "    <tr>\n",
       "      <th>75415</th>\n",
       "      <td>213164</td>\n",
       "      <td>Macbook Pro Laptop</td>\n",
       "      <td>1</td>\n",
       "      <td>1700.0</td>\n",
       "      <td>2019-06-15 18:11:00</td>\n",
       "      <td>928 Forest St, Los Angeles, CA 90001</td>\n",
       "    </tr>\n",
       "    <tr>\n",
       "      <th>166289</th>\n",
       "      <td>299996</td>\n",
       "      <td>Macbook Pro Laptop</td>\n",
       "      <td>1</td>\n",
       "      <td>1700.0</td>\n",
       "      <td>2019-12-10 12:37:00</td>\n",
       "      <td>786 9th St, New York City, NY 10001</td>\n",
       "    </tr>\n",
       "    <tr>\n",
       "      <th>139333</th>\n",
       "      <td>274282</td>\n",
       "      <td>Macbook Pro Laptop</td>\n",
       "      <td>1</td>\n",
       "      <td>1700.0</td>\n",
       "      <td>2019-10-03 14:47:00</td>\n",
       "      <td>29 South St, San Francisco, CA 94016</td>\n",
       "    </tr>\n",
       "    <tr>\n",
       "      <th>165746</th>\n",
       "      <td>299483</td>\n",
       "      <td>Macbook Pro Laptop</td>\n",
       "      <td>1</td>\n",
       "      <td>1700.0</td>\n",
       "      <td>2019-12-15 14:27:00</td>\n",
       "      <td>235 Sunset St, Los Angeles, CA 90001</td>\n",
       "    </tr>\n",
       "    <tr>\n",
       "      <th>102088</th>\n",
       "      <td>238681</td>\n",
       "      <td>Macbook Pro Laptop</td>\n",
       "      <td>1</td>\n",
       "      <td>1700.0</td>\n",
       "      <td>2019-08-22 13:59:00</td>\n",
       "      <td>75 Washington St, New York City, NY 10001</td>\n",
       "    </tr>\n",
       "    <tr>\n",
       "      <th>134493</th>\n",
       "      <td>269669</td>\n",
       "      <td>Macbook Pro Laptop</td>\n",
       "      <td>1</td>\n",
       "      <td>1700.0</td>\n",
       "      <td>2019-10-20 16:21:00</td>\n",
       "      <td>961 Jackson St, New York City, NY 10001</td>\n",
       "    </tr>\n",
       "    <tr>\n",
       "      <th>62429</th>\n",
       "      <td>200798</td>\n",
       "      <td>Macbook Pro Laptop</td>\n",
       "      <td>1</td>\n",
       "      <td>1700.0</td>\n",
       "      <td>2019-05-17 08:25:00</td>\n",
       "      <td>25 13th St, San Francisco, CA 94016</td>\n",
       "    </tr>\n",
       "    <tr>\n",
       "      <th>14207</th>\n",
       "      <td>154774</td>\n",
       "      <td>Macbook Pro Laptop</td>\n",
       "      <td>1</td>\n",
       "      <td>1700.0</td>\n",
       "      <td>2019-02-24 07:44:00</td>\n",
       "      <td>583 Chestnut St, Los Angeles, CA 90001</td>\n",
       "    </tr>\n",
       "    <tr>\n",
       "      <th>171612</th>\n",
       "      <td>305081</td>\n",
       "      <td>Macbook Pro Laptop</td>\n",
       "      <td>1</td>\n",
       "      <td>1700.0</td>\n",
       "      <td>2019-12-03 17:36:00</td>\n",
       "      <td>66 Highland St, New York City, NY 10001</td>\n",
       "    </tr>\n",
       "    <tr>\n",
       "      <th>109102</th>\n",
       "      <td>245375</td>\n",
       "      <td>Macbook Pro Laptop</td>\n",
       "      <td>1</td>\n",
       "      <td>1700.0</td>\n",
       "      <td>2019-08-29 19:48:00</td>\n",
       "      <td>254 5th St, Portland, OR 97035</td>\n",
       "    </tr>\n",
       "  </tbody>\n",
       "</table>\n",
       "</div>"
      ],
      "text/plain": [
       "        Order ID             Product  Quantity Ordered  Price Each  \\\n",
       "75415     213164  Macbook Pro Laptop                 1      1700.0   \n",
       "166289    299996  Macbook Pro Laptop                 1      1700.0   \n",
       "139333    274282  Macbook Pro Laptop                 1      1700.0   \n",
       "165746    299483  Macbook Pro Laptop                 1      1700.0   \n",
       "102088    238681  Macbook Pro Laptop                 1      1700.0   \n",
       "134493    269669  Macbook Pro Laptop                 1      1700.0   \n",
       "62429     200798  Macbook Pro Laptop                 1      1700.0   \n",
       "14207     154774  Macbook Pro Laptop                 1      1700.0   \n",
       "171612    305081  Macbook Pro Laptop                 1      1700.0   \n",
       "109102    245375  Macbook Pro Laptop                 1      1700.0   \n",
       "\n",
       "                Order Date                           Purchase Address  \n",
       "75415  2019-06-15 18:11:00       928 Forest St, Los Angeles, CA 90001  \n",
       "166289 2019-12-10 12:37:00        786 9th St, New York City, NY 10001  \n",
       "139333 2019-10-03 14:47:00       29 South St, San Francisco, CA 94016  \n",
       "165746 2019-12-15 14:27:00       235 Sunset St, Los Angeles, CA 90001  \n",
       "102088 2019-08-22 13:59:00  75 Washington St, New York City, NY 10001  \n",
       "134493 2019-10-20 16:21:00    961 Jackson St, New York City, NY 10001  \n",
       "62429  2019-05-17 08:25:00        25 13th St, San Francisco, CA 94016  \n",
       "14207  2019-02-24 07:44:00     583 Chestnut St, Los Angeles, CA 90001  \n",
       "171612 2019-12-03 17:36:00    66 Highland St, New York City, NY 10001  \n",
       "109102 2019-08-29 19:48:00             254 5th St, Portland, OR 97035  "
      ]
     },
     "execution_count": 23,
     "metadata": {},
     "output_type": "execute_result"
    }
   ],
   "source": [
    "df[df[\"Price Each\"] > 1500].sample(10)"
   ]
  },
  {
   "cell_type": "markdown",
   "metadata": {},
   "source": [
    "That makes sense, the Macbook Pro is an extremely popular personal computer.\n",
    "\n",
    "Occasionally, datasets will collect all values beyond a cutoff point into the same maximum value. For instance, a real estate dataset may have a price cutoff of \\\\$1,000,000, and any properies with values exceeding that will be counted as having a price of \\\\$1,000,000, resulting in a bump on the right edge of the price histogram. I'm glad to see that's not what happened here.\n",
    "\n",
    "Everything checks out in terms of data quality, so let's move on to data transformation!"
   ]
  },
  {
   "cell_type": "markdown",
   "metadata": {},
   "source": [
    "## Data transformation"
   ]
  },
  {
   "cell_type": "markdown",
   "metadata": {},
   "source": [
    "Remember that we got rid of several rows earlier, because they contained null values or contained the column names rather than any useful information; that messed up our index, because now there are \"holes\" in it. It's possibly not a big deal, but I prefer to have all the useful data logically sorted and indexed. So let's sort and reindex our DataFrame."
   ]
  },
  {
   "cell_type": "code",
   "execution_count": 24,
   "metadata": {
    "tags": []
   },
   "outputs": [],
   "source": [
    "df.sort_values(by = \"Order ID\", inplace = True)\n",
    "df.reset_index(drop = True, inplace = True)"
   ]
  },
  {
   "cell_type": "markdown",
   "metadata": {},
   "source": [
    "Next, remember that we discovered earlier that the maximum `Order Date` is January 1, 2020. Since this is an analysis of 2019 data, we don't want any 2020 orders, so let's get rid of those rows. But first, I'm curious to see how many 2020 orders made it into this data set."
   ]
  },
  {
   "cell_type": "code",
   "execution_count": 25,
   "metadata": {
    "tags": []
   },
   "outputs": [
    {
     "data": {
      "text/html": [
       "<div>\n",
       "<style scoped>\n",
       "    .dataframe tbody tr th:only-of-type {\n",
       "        vertical-align: middle;\n",
       "    }\n",
       "\n",
       "    .dataframe tbody tr th {\n",
       "        vertical-align: top;\n",
       "    }\n",
       "\n",
       "    .dataframe thead th {\n",
       "        text-align: right;\n",
       "    }\n",
       "</style>\n",
       "<table border=\"1\" class=\"dataframe\">\n",
       "  <thead>\n",
       "    <tr style=\"text-align: right;\">\n",
       "      <th></th>\n",
       "      <th>Order ID</th>\n",
       "      <th>Product</th>\n",
       "      <th>Quantity Ordered</th>\n",
       "      <th>Price Each</th>\n",
       "      <th>Order Date</th>\n",
       "      <th>Purchase Address</th>\n",
       "    </tr>\n",
       "  </thead>\n",
       "  <tbody>\n",
       "    <tr>\n",
       "      <th>162516</th>\n",
       "      <td>297150</td>\n",
       "      <td>Lightning Charging Cable</td>\n",
       "      <td>1</td>\n",
       "      <td>14.95</td>\n",
       "      <td>2020-01-01 00:38:00</td>\n",
       "      <td>427 Wilson St, Dallas, TX 75001</td>\n",
       "    </tr>\n",
       "    <tr>\n",
       "      <th>163216</th>\n",
       "      <td>297817</td>\n",
       "      <td>iPhone</td>\n",
       "      <td>1</td>\n",
       "      <td>700.00</td>\n",
       "      <td>2020-01-01 00:22:00</td>\n",
       "      <td>519 13th St, New York City, NY 10001</td>\n",
       "    </tr>\n",
       "    <tr>\n",
       "      <th>163217</th>\n",
       "      <td>297817</td>\n",
       "      <td>Lightning Charging Cable</td>\n",
       "      <td>2</td>\n",
       "      <td>14.95</td>\n",
       "      <td>2020-01-01 00:22:00</td>\n",
       "      <td>519 13th St, New York City, NY 10001</td>\n",
       "    </tr>\n",
       "    <tr>\n",
       "      <th>163376</th>\n",
       "      <td>297969</td>\n",
       "      <td>Google Phone</td>\n",
       "      <td>1</td>\n",
       "      <td>600.00</td>\n",
       "      <td>2020-01-01 00:54:00</td>\n",
       "      <td>542 2nd St, San Francisco, CA 94016</td>\n",
       "    </tr>\n",
       "    <tr>\n",
       "      <th>163757</th>\n",
       "      <td>298344</td>\n",
       "      <td>Wired Headphones</td>\n",
       "      <td>4</td>\n",
       "      <td>11.99</td>\n",
       "      <td>2020-01-01 03:34:00</td>\n",
       "      <td>731 7th St, New York City, NY 10001</td>\n",
       "    </tr>\n",
       "    <tr>\n",
       "      <th>164498</th>\n",
       "      <td>299049</td>\n",
       "      <td>Apple Airpods Headphones</td>\n",
       "      <td>1</td>\n",
       "      <td>150.00</td>\n",
       "      <td>2020-01-01 01:17:00</td>\n",
       "      <td>762 Johnson St, San Francisco, CA 94016</td>\n",
       "    </tr>\n",
       "    <tr>\n",
       "      <th>164578</th>\n",
       "      <td>299125</td>\n",
       "      <td>USB-C Charging Cable</td>\n",
       "      <td>1</td>\n",
       "      <td>11.95</td>\n",
       "      <td>2020-01-01 04:21:00</td>\n",
       "      <td>754 Hickory St, New York City, NY 10001</td>\n",
       "    </tr>\n",
       "    <tr>\n",
       "      <th>165875</th>\n",
       "      <td>300362</td>\n",
       "      <td>USB-C Charging Cable</td>\n",
       "      <td>1</td>\n",
       "      <td>11.95</td>\n",
       "      <td>2020-01-01 00:59:00</td>\n",
       "      <td>581 River St, San Francisco, CA 94016</td>\n",
       "    </tr>\n",
       "    <tr>\n",
       "      <th>166037</th>\n",
       "      <td>300519</td>\n",
       "      <td>Bose SoundSport Headphones</td>\n",
       "      <td>1</td>\n",
       "      <td>99.99</td>\n",
       "      <td>2020-01-01 05:13:00</td>\n",
       "      <td>657 Spruce St, New York City, NY 10001</td>\n",
       "    </tr>\n",
       "    <tr>\n",
       "      <th>166038</th>\n",
       "      <td>300519</td>\n",
       "      <td>Lightning Charging Cable</td>\n",
       "      <td>1</td>\n",
       "      <td>14.95</td>\n",
       "      <td>2020-01-01 05:13:00</td>\n",
       "      <td>657 Spruce St, New York City, NY 10001</td>\n",
       "    </tr>\n",
       "    <tr>\n",
       "      <th>166287</th>\n",
       "      <td>300759</td>\n",
       "      <td>20in Monitor</td>\n",
       "      <td>1</td>\n",
       "      <td>109.99</td>\n",
       "      <td>2020-01-01 00:14:00</td>\n",
       "      <td>193 5th St, Austin, TX 73301</td>\n",
       "    </tr>\n",
       "    <tr>\n",
       "      <th>167973</th>\n",
       "      <td>302393</td>\n",
       "      <td>Lightning Charging Cable</td>\n",
       "      <td>1</td>\n",
       "      <td>14.95</td>\n",
       "      <td>2020-01-01 00:14:00</td>\n",
       "      <td>108 Jefferson St, Boston, MA 02215</td>\n",
       "    </tr>\n",
       "    <tr>\n",
       "      <th>169828</th>\n",
       "      <td>304165</td>\n",
       "      <td>AAA Batteries (4-pack)</td>\n",
       "      <td>1</td>\n",
       "      <td>2.99</td>\n",
       "      <td>2020-01-01 04:13:00</td>\n",
       "      <td>825 Adams St, Portland, OR 97035</td>\n",
       "    </tr>\n",
       "    <tr>\n",
       "      <th>171262</th>\n",
       "      <td>305538</td>\n",
       "      <td>Apple Airpods Headphones</td>\n",
       "      <td>1</td>\n",
       "      <td>150.00</td>\n",
       "      <td>2020-01-01 01:00:00</td>\n",
       "      <td>693 1st St, Portland, OR 97035</td>\n",
       "    </tr>\n",
       "    <tr>\n",
       "      <th>171575</th>\n",
       "      <td>305840</td>\n",
       "      <td>Bose SoundSport Headphones</td>\n",
       "      <td>1</td>\n",
       "      <td>99.99</td>\n",
       "      <td>2020-01-01 04:54:00</td>\n",
       "      <td>784 River St, San Francisco, CA 94016</td>\n",
       "    </tr>\n",
       "    <tr>\n",
       "      <th>172424</th>\n",
       "      <td>306655</td>\n",
       "      <td>ThinkPad Laptop</td>\n",
       "      <td>1</td>\n",
       "      <td>999.99</td>\n",
       "      <td>2020-01-01 01:46:00</td>\n",
       "      <td>431 Hickory St, Los Angeles, CA 90001</td>\n",
       "    </tr>\n",
       "    <tr>\n",
       "      <th>172586</th>\n",
       "      <td>306809</td>\n",
       "      <td>Macbook Pro Laptop</td>\n",
       "      <td>1</td>\n",
       "      <td>1700.00</td>\n",
       "      <td>2020-01-01 02:20:00</td>\n",
       "      <td>326 14th St, Dallas, TX 75001</td>\n",
       "    </tr>\n",
       "    <tr>\n",
       "      <th>172712</th>\n",
       "      <td>306928</td>\n",
       "      <td>ThinkPad Laptop</td>\n",
       "      <td>1</td>\n",
       "      <td>999.99</td>\n",
       "      <td>2020-01-01 03:14:00</td>\n",
       "      <td>762 Elm St, Boston, MA 02215</td>\n",
       "    </tr>\n",
       "    <tr>\n",
       "      <th>173700</th>\n",
       "      <td>307890</td>\n",
       "      <td>Lightning Charging Cable</td>\n",
       "      <td>1</td>\n",
       "      <td>14.95</td>\n",
       "      <td>2020-01-01 02:06:00</td>\n",
       "      <td>39 Pine St, New York City, NY 10001</td>\n",
       "    </tr>\n",
       "    <tr>\n",
       "      <th>174007</th>\n",
       "      <td>308185</td>\n",
       "      <td>27in FHD Monitor</td>\n",
       "      <td>1</td>\n",
       "      <td>149.99</td>\n",
       "      <td>2020-01-01 04:06:00</td>\n",
       "      <td>202 Maple St, San Francisco, CA 94016</td>\n",
       "    </tr>\n",
       "    <tr>\n",
       "      <th>174148</th>\n",
       "      <td>308322</td>\n",
       "      <td>Bose SoundSport Headphones</td>\n",
       "      <td>1</td>\n",
       "      <td>99.99</td>\n",
       "      <td>2020-01-01 00:24:00</td>\n",
       "      <td>362 Willow St, San Francisco, CA 94016</td>\n",
       "    </tr>\n",
       "    <tr>\n",
       "      <th>175970</th>\n",
       "      <td>310074</td>\n",
       "      <td>Apple Airpods Headphones</td>\n",
       "      <td>1</td>\n",
       "      <td>150.00</td>\n",
       "      <td>2020-01-01 01:46:00</td>\n",
       "      <td>636 Lakeview St, San Francisco, CA 94016</td>\n",
       "    </tr>\n",
       "    <tr>\n",
       "      <th>177325</th>\n",
       "      <td>311386</td>\n",
       "      <td>iPhone</td>\n",
       "      <td>1</td>\n",
       "      <td>700.00</td>\n",
       "      <td>2020-01-01 00:10:00</td>\n",
       "      <td>730 Pine St, San Francisco, CA 94016</td>\n",
       "    </tr>\n",
       "    <tr>\n",
       "      <th>177326</th>\n",
       "      <td>311386</td>\n",
       "      <td>Apple Airpods Headphones</td>\n",
       "      <td>1</td>\n",
       "      <td>150.00</td>\n",
       "      <td>2020-01-01 00:10:00</td>\n",
       "      <td>730 Pine St, San Francisco, CA 94016</td>\n",
       "    </tr>\n",
       "    <tr>\n",
       "      <th>177979</th>\n",
       "      <td>312012</td>\n",
       "      <td>27in FHD Monitor</td>\n",
       "      <td>1</td>\n",
       "      <td>149.99</td>\n",
       "      <td>2020-01-01 02:12:00</td>\n",
       "      <td>507 13th St, San Francisco, CA 94016</td>\n",
       "    </tr>\n",
       "    <tr>\n",
       "      <th>178816</th>\n",
       "      <td>312812</td>\n",
       "      <td>Flatscreen TV</td>\n",
       "      <td>1</td>\n",
       "      <td>300.00</td>\n",
       "      <td>2020-01-01 01:56:00</td>\n",
       "      <td>129 6th St, Boston, MA 02215</td>\n",
       "    </tr>\n",
       "    <tr>\n",
       "      <th>180127</th>\n",
       "      <td>314066</td>\n",
       "      <td>USB-C Charging Cable</td>\n",
       "      <td>1</td>\n",
       "      <td>11.95</td>\n",
       "      <td>2020-01-01 01:52:00</td>\n",
       "      <td>922 8th St, New York City, NY 10001</td>\n",
       "    </tr>\n",
       "    <tr>\n",
       "      <th>180627</th>\n",
       "      <td>314552</td>\n",
       "      <td>AAA Batteries (4-pack)</td>\n",
       "      <td>1</td>\n",
       "      <td>2.99</td>\n",
       "      <td>2020-01-01 01:47:00</td>\n",
       "      <td>541 4th St, San Francisco, CA 94016</td>\n",
       "    </tr>\n",
       "    <tr>\n",
       "      <th>181237</th>\n",
       "      <td>315138</td>\n",
       "      <td>AAA Batteries (4-pack)</td>\n",
       "      <td>3</td>\n",
       "      <td>2.99</td>\n",
       "      <td>2020-01-01 00:51:00</td>\n",
       "      <td>257 Adams St, New York City, NY 10001</td>\n",
       "    </tr>\n",
       "    <tr>\n",
       "      <th>181420</th>\n",
       "      <td>315315</td>\n",
       "      <td>27in 4K Gaming Monitor</td>\n",
       "      <td>1</td>\n",
       "      <td>389.99</td>\n",
       "      <td>2020-01-01 01:22:00</td>\n",
       "      <td>552 North St, Austin, TX 73301</td>\n",
       "    </tr>\n",
       "    <tr>\n",
       "      <th>183007</th>\n",
       "      <td>316833</td>\n",
       "      <td>Vareebadd Phone</td>\n",
       "      <td>1</td>\n",
       "      <td>400.00</td>\n",
       "      <td>2020-01-01 02:58:00</td>\n",
       "      <td>378 Elm St, New York City, NY 10001</td>\n",
       "    </tr>\n",
       "    <tr>\n",
       "      <th>183042</th>\n",
       "      <td>316867</td>\n",
       "      <td>27in FHD Monitor</td>\n",
       "      <td>1</td>\n",
       "      <td>149.99</td>\n",
       "      <td>2020-01-01 01:05:00</td>\n",
       "      <td>137 Madison St, Seattle, WA 98101</td>\n",
       "    </tr>\n",
       "    <tr>\n",
       "      <th>185575</th>\n",
       "      <td>319308</td>\n",
       "      <td>USB-C Charging Cable</td>\n",
       "      <td>1</td>\n",
       "      <td>11.95</td>\n",
       "      <td>2020-01-01 03:13:00</td>\n",
       "      <td>135 8th St, Boston, MA 02215</td>\n",
       "    </tr>\n",
       "    <tr>\n",
       "      <th>185637</th>\n",
       "      <td>319366</td>\n",
       "      <td>20in Monitor</td>\n",
       "      <td>2</td>\n",
       "      <td>109.99</td>\n",
       "      <td>2020-01-01 00:45:00</td>\n",
       "      <td>746 South St, San Francisco, CA 94016</td>\n",
       "    </tr>\n",
       "  </tbody>\n",
       "</table>\n",
       "</div>"
      ],
      "text/plain": [
       "        Order ID                     Product  Quantity Ordered  Price Each  \\\n",
       "162516    297150    Lightning Charging Cable                 1       14.95   \n",
       "163216    297817                      iPhone                 1      700.00   \n",
       "163217    297817    Lightning Charging Cable                 2       14.95   \n",
       "163376    297969                Google Phone                 1      600.00   \n",
       "163757    298344            Wired Headphones                 4       11.99   \n",
       "164498    299049    Apple Airpods Headphones                 1      150.00   \n",
       "164578    299125        USB-C Charging Cable                 1       11.95   \n",
       "165875    300362        USB-C Charging Cable                 1       11.95   \n",
       "166037    300519  Bose SoundSport Headphones                 1       99.99   \n",
       "166038    300519    Lightning Charging Cable                 1       14.95   \n",
       "166287    300759                20in Monitor                 1      109.99   \n",
       "167973    302393    Lightning Charging Cable                 1       14.95   \n",
       "169828    304165      AAA Batteries (4-pack)                 1        2.99   \n",
       "171262    305538    Apple Airpods Headphones                 1      150.00   \n",
       "171575    305840  Bose SoundSport Headphones                 1       99.99   \n",
       "172424    306655             ThinkPad Laptop                 1      999.99   \n",
       "172586    306809          Macbook Pro Laptop                 1     1700.00   \n",
       "172712    306928             ThinkPad Laptop                 1      999.99   \n",
       "173700    307890    Lightning Charging Cable                 1       14.95   \n",
       "174007    308185            27in FHD Monitor                 1      149.99   \n",
       "174148    308322  Bose SoundSport Headphones                 1       99.99   \n",
       "175970    310074    Apple Airpods Headphones                 1      150.00   \n",
       "177325    311386                      iPhone                 1      700.00   \n",
       "177326    311386    Apple Airpods Headphones                 1      150.00   \n",
       "177979    312012            27in FHD Monitor                 1      149.99   \n",
       "178816    312812               Flatscreen TV                 1      300.00   \n",
       "180127    314066        USB-C Charging Cable                 1       11.95   \n",
       "180627    314552      AAA Batteries (4-pack)                 1        2.99   \n",
       "181237    315138      AAA Batteries (4-pack)                 3        2.99   \n",
       "181420    315315      27in 4K Gaming Monitor                 1      389.99   \n",
       "183007    316833             Vareebadd Phone                 1      400.00   \n",
       "183042    316867            27in FHD Monitor                 1      149.99   \n",
       "185575    319308        USB-C Charging Cable                 1       11.95   \n",
       "185637    319366                20in Monitor                 2      109.99   \n",
       "\n",
       "                Order Date                          Purchase Address  \n",
       "162516 2020-01-01 00:38:00           427 Wilson St, Dallas, TX 75001  \n",
       "163216 2020-01-01 00:22:00      519 13th St, New York City, NY 10001  \n",
       "163217 2020-01-01 00:22:00      519 13th St, New York City, NY 10001  \n",
       "163376 2020-01-01 00:54:00       542 2nd St, San Francisco, CA 94016  \n",
       "163757 2020-01-01 03:34:00       731 7th St, New York City, NY 10001  \n",
       "164498 2020-01-01 01:17:00   762 Johnson St, San Francisco, CA 94016  \n",
       "164578 2020-01-01 04:21:00   754 Hickory St, New York City, NY 10001  \n",
       "165875 2020-01-01 00:59:00     581 River St, San Francisco, CA 94016  \n",
       "166037 2020-01-01 05:13:00    657 Spruce St, New York City, NY 10001  \n",
       "166038 2020-01-01 05:13:00    657 Spruce St, New York City, NY 10001  \n",
       "166287 2020-01-01 00:14:00              193 5th St, Austin, TX 73301  \n",
       "167973 2020-01-01 00:14:00        108 Jefferson St, Boston, MA 02215  \n",
       "169828 2020-01-01 04:13:00          825 Adams St, Portland, OR 97035  \n",
       "171262 2020-01-01 01:00:00            693 1st St, Portland, OR 97035  \n",
       "171575 2020-01-01 04:54:00     784 River St, San Francisco, CA 94016  \n",
       "172424 2020-01-01 01:46:00     431 Hickory St, Los Angeles, CA 90001  \n",
       "172586 2020-01-01 02:20:00             326 14th St, Dallas, TX 75001  \n",
       "172712 2020-01-01 03:14:00              762 Elm St, Boston, MA 02215  \n",
       "173700 2020-01-01 02:06:00       39 Pine St, New York City, NY 10001  \n",
       "174007 2020-01-01 04:06:00     202 Maple St, San Francisco, CA 94016  \n",
       "174148 2020-01-01 00:24:00    362 Willow St, San Francisco, CA 94016  \n",
       "175970 2020-01-01 01:46:00  636 Lakeview St, San Francisco, CA 94016  \n",
       "177325 2020-01-01 00:10:00      730 Pine St, San Francisco, CA 94016  \n",
       "177326 2020-01-01 00:10:00      730 Pine St, San Francisco, CA 94016  \n",
       "177979 2020-01-01 02:12:00      507 13th St, San Francisco, CA 94016  \n",
       "178816 2020-01-01 01:56:00              129 6th St, Boston, MA 02215  \n",
       "180127 2020-01-01 01:52:00       922 8th St, New York City, NY 10001  \n",
       "180627 2020-01-01 01:47:00       541 4th St, San Francisco, CA 94016  \n",
       "181237 2020-01-01 00:51:00     257 Adams St, New York City, NY 10001  \n",
       "181420 2020-01-01 01:22:00            552 North St, Austin, TX 73301  \n",
       "183007 2020-01-01 02:58:00       378 Elm St, New York City, NY 10001  \n",
       "183042 2020-01-01 01:05:00         137 Madison St, Seattle, WA 98101  \n",
       "185575 2020-01-01 03:13:00              135 8th St, Boston, MA 02215  \n",
       "185637 2020-01-01 00:45:00     746 South St, San Francisco, CA 94016  "
      ]
     },
     "execution_count": 25,
     "metadata": {},
     "output_type": "execute_result"
    }
   ],
   "source": [
    "df[df[\"Order Date\"] >= parse(\"01/01/2020\")]"
   ]
  },
  {
   "cell_type": "markdown",
   "metadata": {},
   "source": [
    "Not many when compared to the size of the dataset, but a lot more than I expected. Instead of just discarding it, let's put this stuff into a new DataFrame, separate from our 2019 data. We'll also put the 2019 data into its own DataFrame. This ensures we have the original data, should we ever want to refer to it."
   ]
  },
  {
   "cell_type": "code",
   "execution_count": 26,
   "metadata": {
    "tags": []
   },
   "outputs": [],
   "source": [
    "data_2020 = df.loc[df[\"Order Date\"] >= parse(\"01/01/2020\")].copy()\n",
    "data_2019 = df.loc[df[\"Order Date\"] < parse(\"01/01/2020\")].copy()"
   ]
  },
  {
   "cell_type": "code",
   "execution_count": 27,
   "metadata": {
    "tags": []
   },
   "outputs": [
    {
     "data": {
      "text/html": [
       "<div>\n",
       "<style scoped>\n",
       "    .dataframe tbody tr th:only-of-type {\n",
       "        vertical-align: middle;\n",
       "    }\n",
       "\n",
       "    .dataframe tbody tr th {\n",
       "        vertical-align: top;\n",
       "    }\n",
       "\n",
       "    .dataframe thead th {\n",
       "        text-align: right;\n",
       "    }\n",
       "</style>\n",
       "<table border=\"1\" class=\"dataframe\">\n",
       "  <thead>\n",
       "    <tr style=\"text-align: right;\">\n",
       "      <th></th>\n",
       "      <th>Order ID</th>\n",
       "      <th>Quantity Ordered</th>\n",
       "      <th>Price Each</th>\n",
       "      <th>Order Date</th>\n",
       "    </tr>\n",
       "  </thead>\n",
       "  <tbody>\n",
       "    <tr>\n",
       "      <th>count</th>\n",
       "      <td>185916.000000</td>\n",
       "      <td>185916.000000</td>\n",
       "      <td>185916.000000</td>\n",
       "      <td>185916</td>\n",
       "    </tr>\n",
       "    <tr>\n",
       "      <th>mean</th>\n",
       "      <td>230403.546526</td>\n",
       "      <td>1.124368</td>\n",
       "      <td>184.387720</td>\n",
       "      <td>2019-07-18 21:10:53.291163392</td>\n",
       "    </tr>\n",
       "    <tr>\n",
       "      <th>min</th>\n",
       "      <td>141234.000000</td>\n",
       "      <td>1.000000</td>\n",
       "      <td>2.990000</td>\n",
       "      <td>2019-01-01 03:07:00</td>\n",
       "    </tr>\n",
       "    <tr>\n",
       "      <th>25%</th>\n",
       "      <td>185822.750000</td>\n",
       "      <td>1.000000</td>\n",
       "      <td>11.950000</td>\n",
       "      <td>2019-04-16 20:52:00</td>\n",
       "    </tr>\n",
       "    <tr>\n",
       "      <th>50%</th>\n",
       "      <td>230351.500000</td>\n",
       "      <td>1.000000</td>\n",
       "      <td>14.950000</td>\n",
       "      <td>2019-07-17 20:09:30</td>\n",
       "    </tr>\n",
       "    <tr>\n",
       "      <th>75%</th>\n",
       "      <td>275015.250000</td>\n",
       "      <td>1.000000</td>\n",
       "      <td>150.000000</td>\n",
       "      <td>2019-10-26 06:58:00</td>\n",
       "    </tr>\n",
       "    <tr>\n",
       "      <th>max</th>\n",
       "      <td>319670.000000</td>\n",
       "      <td>9.000000</td>\n",
       "      <td>1700.000000</td>\n",
       "      <td>2019-12-31 23:53:00</td>\n",
       "    </tr>\n",
       "    <tr>\n",
       "      <th>std</th>\n",
       "      <td>51506.924899</td>\n",
       "      <td>0.442749</td>\n",
       "      <td>332.722426</td>\n",
       "      <td>NaN</td>\n",
       "    </tr>\n",
       "  </tbody>\n",
       "</table>\n",
       "</div>"
      ],
      "text/plain": [
       "            Order ID  Quantity Ordered     Price Each  \\\n",
       "count  185916.000000     185916.000000  185916.000000   \n",
       "mean   230403.546526          1.124368     184.387720   \n",
       "min    141234.000000          1.000000       2.990000   \n",
       "25%    185822.750000          1.000000      11.950000   \n",
       "50%    230351.500000          1.000000      14.950000   \n",
       "75%    275015.250000          1.000000     150.000000   \n",
       "max    319670.000000          9.000000    1700.000000   \n",
       "std     51506.924899          0.442749     332.722426   \n",
       "\n",
       "                          Order Date  \n",
       "count                         185916  \n",
       "mean   2019-07-18 21:10:53.291163392  \n",
       "min              2019-01-01 03:07:00  \n",
       "25%              2019-04-16 20:52:00  \n",
       "50%              2019-07-17 20:09:30  \n",
       "75%              2019-10-26 06:58:00  \n",
       "max              2019-12-31 23:53:00  \n",
       "std                              NaN  "
      ]
     },
     "execution_count": 27,
     "metadata": {},
     "output_type": "execute_result"
    }
   ],
   "source": [
    "data_2019.describe()"
   ]
  },
  {
   "cell_type": "code",
   "execution_count": 28,
   "metadata": {
    "tags": []
   },
   "outputs": [
    {
     "data": {
      "text/html": [
       "<div>\n",
       "<style scoped>\n",
       "    .dataframe tbody tr th:only-of-type {\n",
       "        vertical-align: middle;\n",
       "    }\n",
       "\n",
       "    .dataframe tbody tr th {\n",
       "        vertical-align: top;\n",
       "    }\n",
       "\n",
       "    .dataframe thead th {\n",
       "        text-align: right;\n",
       "    }\n",
       "</style>\n",
       "<table border=\"1\" class=\"dataframe\">\n",
       "  <thead>\n",
       "    <tr style=\"text-align: right;\">\n",
       "      <th></th>\n",
       "      <th>Order ID</th>\n",
       "      <th>Quantity Ordered</th>\n",
       "      <th>Price Each</th>\n",
       "      <th>Order Date</th>\n",
       "    </tr>\n",
       "  </thead>\n",
       "  <tbody>\n",
       "    <tr>\n",
       "      <th>count</th>\n",
       "      <td>34.000000</td>\n",
       "      <td>34.000000</td>\n",
       "      <td>34.000000</td>\n",
       "      <td>34</td>\n",
       "    </tr>\n",
       "    <tr>\n",
       "      <th>mean</th>\n",
       "      <td>307096.176471</td>\n",
       "      <td>1.205882</td>\n",
       "      <td>250.100000</td>\n",
       "      <td>2020-01-01 01:59:08.823529472</td>\n",
       "    </tr>\n",
       "    <tr>\n",
       "      <th>min</th>\n",
       "      <td>297150.000000</td>\n",
       "      <td>1.000000</td>\n",
       "      <td>2.990000</td>\n",
       "      <td>2020-01-01 00:10:00</td>\n",
       "    </tr>\n",
       "    <tr>\n",
       "      <th>25%</th>\n",
       "      <td>300519.000000</td>\n",
       "      <td>1.000000</td>\n",
       "      <td>14.950000</td>\n",
       "      <td>2020-01-01 00:46:30</td>\n",
       "    </tr>\n",
       "    <tr>\n",
       "      <th>50%</th>\n",
       "      <td>306868.500000</td>\n",
       "      <td>1.000000</td>\n",
       "      <td>109.990000</td>\n",
       "      <td>2020-01-01 01:46:00</td>\n",
       "    </tr>\n",
       "    <tr>\n",
       "      <th>75%</th>\n",
       "      <td>312612.000000</td>\n",
       "      <td>1.000000</td>\n",
       "      <td>262.500000</td>\n",
       "      <td>2020-01-01 03:09:15</td>\n",
       "    </tr>\n",
       "    <tr>\n",
       "      <th>max</th>\n",
       "      <td>319366.000000</td>\n",
       "      <td>4.000000</td>\n",
       "      <td>1700.000000</td>\n",
       "      <td>2020-01-01 05:13:00</td>\n",
       "    </tr>\n",
       "    <tr>\n",
       "      <th>std</th>\n",
       "      <td>6959.955266</td>\n",
       "      <td>0.640994</td>\n",
       "      <td>378.149071</td>\n",
       "      <td>NaN</td>\n",
       "    </tr>\n",
       "  </tbody>\n",
       "</table>\n",
       "</div>"
      ],
      "text/plain": [
       "            Order ID  Quantity Ordered   Price Each  \\\n",
       "count      34.000000         34.000000    34.000000   \n",
       "mean   307096.176471          1.205882   250.100000   \n",
       "min    297150.000000          1.000000     2.990000   \n",
       "25%    300519.000000          1.000000    14.950000   \n",
       "50%    306868.500000          1.000000   109.990000   \n",
       "75%    312612.000000          1.000000   262.500000   \n",
       "max    319366.000000          4.000000  1700.000000   \n",
       "std      6959.955266          0.640994   378.149071   \n",
       "\n",
       "                          Order Date  \n",
       "count                             34  \n",
       "mean   2020-01-01 01:59:08.823529472  \n",
       "min              2020-01-01 00:10:00  \n",
       "25%              2020-01-01 00:46:30  \n",
       "50%              2020-01-01 01:46:00  \n",
       "75%              2020-01-01 03:09:15  \n",
       "max              2020-01-01 05:13:00  \n",
       "std                              NaN  "
      ]
     },
     "execution_count": 28,
     "metadata": {},
     "output_type": "execute_result"
    }
   ],
   "source": [
    "data_2020.describe()"
   ]
  },
  {
   "cell_type": "markdown",
   "metadata": {},
   "source": [
    "Excellent. Now we can move on to analysis."
   ]
  },
  {
   "cell_type": "markdown",
   "metadata": {},
   "source": [
    "## Data analysis"
   ]
  },
  {
   "cell_type": "markdown",
   "metadata": {},
   "source": [
    "A good rule of thumb in data analysis, especially in _exploratory_ data analysis, when we don't have a specific question we're interested in, is to get a big picture overview of general information and then get progressively more specific as questions arise.\n",
    "\n",
    "Since we're analyzing store data, let's start by checking out the year's sales statistics."
   ]
  },
  {
   "cell_type": "markdown",
   "metadata": {
    "pycharm": {
     "name": "#%% md\n"
    }
   },
   "source": [
    "### Total sales in 2019"
   ]
  },
  {
   "cell_type": "markdown",
   "metadata": {},
   "source": [
    "Since the data records each type item sold at a time as its own order, the year's total sales will be equal to each order's `Quantity Ordered` multiplied by the item's `Price Each`."
   ]
  },
  {
   "cell_type": "code",
   "execution_count": 29,
   "metadata": {
    "pycharm": {
     "name": "#%%\n"
    },
    "tags": []
   },
   "outputs": [
    {
     "data": {
      "text/plain": [
       "34483365.67999999"
      ]
     },
     "execution_count": 29,
     "metadata": {},
     "output_type": "execute_result"
    }
   ],
   "source": [
    "total_sales = (data_2019[\"Quantity Ordered\"] * data_2019[\"Price Each\"]).sum()\n",
    "total_sales"
   ]
  },
  {
   "cell_type": "markdown",
   "metadata": {},
   "source": [
    "So, in 2019, the store had a revenue of around \\\\$3,448,365.68. Not bad, though without knowing where the store is geographically, how many employees it has, and what its costs are, there's no way to tell whether that's objectively good. In a very high cost of living area, with many employees, and high costs, each employee and store owner may not have lavish lifestyles. On the other hand, if it's in a low cost of living area, with only a few employees, and not much cash outflow, the store's employees could be living like royalty.\n",
    "\n",
    "Let's get a bit more specific, and examine the monthly statistics."
   ]
  },
  {
   "cell_type": "markdown",
   "metadata": {
    "pycharm": {
     "name": "#%% md\n"
    }
   },
   "source": [
    "### Monthly statistics\n"
   ]
  },
  {
   "cell_type": "markdown",
   "metadata": {},
   "source": [
    "The `Order Date` histogram we created previously in the data quality check section gave us an overview of how orders are distributed by month, but we don't know if sales (i.e. revenue) follow the same distribution. Let's find out!\n",
    "\n",
    "If we're going to be splitting data up based on unique values of a categorical variable, though, it's convenient to have a column containing specifically the values of that variable. Currently, the month of each order is tied up in its `Order Date`, and we'd have to parse each entry individually to extract the order's month. That's both computationally expensive and a messy thing to code. So let's create new colummns for the number and name of the month of each order (e.g. April is number 4), as well as separate columns for the day of the month, day of the year (e.g. February 1 is the 32nd day of the year), and weekday (Sunday, Monday, etc.). This will let us investigate such things as whether sales spike on December 24th, see sales as a per-day time series spanning the duration of 2019, and how the day of the week impacts sales.\n",
    "\n",
    "We will need to import the `datetime.datetime` module first."
   ]
  },
  {
   "cell_type": "markdown",
   "metadata": {},
   "source": [
    "#### Further data transformation"
   ]
  },
  {
   "cell_type": "code",
   "execution_count": 30,
   "metadata": {
    "tags": []
   },
   "outputs": [],
   "source": [
    "from datetime import datetime"
   ]
  },
  {
   "cell_type": "code",
   "execution_count": 31,
   "metadata": {
    "tags": []
   },
   "outputs": [],
   "source": [
    "data_2019.loc[:, \"Month Number\"] = pd.Series(data_2019.loc[:, \"Order Date\"].map(lambda d: d.month)).astype(\"Int8\")\n",
    "data_2019.loc[:, \"Month Name\"] = pd.Series(data_2019.loc[:, \"Order Date\"].map(lambda d: d.month_name()))\n",
    "data_2019.loc[:, \"Day of Month\"] = pd.Series(data_2019.loc[:, \"Order Date\"].map(lambda d: d.day)).astype(\"Int8\")\n",
    "\n",
    "date_offset = data_2019.loc[:, \"Order Date\"].min().toordinal() + 1\n",
    "\n",
    "data_2019.loc[:, \"Ordinal Day\"] = pd.Series(data_2019.loc[:, \"Order Date\"].map(lambda d: d.toordinal() - date_offset)).astype(\"Int16\")\n",
    "data_2019.loc[:, \"Weekday\"] = pd.Series(data_2019.loc[:, \"Order Date\"].map(lambda d: d.day_name()))"
   ]
  },
  {
   "cell_type": "code",
   "execution_count": 32,
   "metadata": {
    "tags": []
   },
   "outputs": [
    {
     "data": {
      "text/html": [
       "<div>\n",
       "<style scoped>\n",
       "    .dataframe tbody tr th:only-of-type {\n",
       "        vertical-align: middle;\n",
       "    }\n",
       "\n",
       "    .dataframe tbody tr th {\n",
       "        vertical-align: top;\n",
       "    }\n",
       "\n",
       "    .dataframe thead th {\n",
       "        text-align: right;\n",
       "    }\n",
       "</style>\n",
       "<table border=\"1\" class=\"dataframe\">\n",
       "  <thead>\n",
       "    <tr style=\"text-align: right;\">\n",
       "      <th></th>\n",
       "      <th>Order ID</th>\n",
       "      <th>Product</th>\n",
       "      <th>Quantity Ordered</th>\n",
       "      <th>Price Each</th>\n",
       "      <th>Order Date</th>\n",
       "      <th>Purchase Address</th>\n",
       "      <th>Month Number</th>\n",
       "      <th>Month Name</th>\n",
       "      <th>Day of Month</th>\n",
       "      <th>Ordinal Day</th>\n",
       "      <th>Weekday</th>\n",
       "    </tr>\n",
       "  </thead>\n",
       "  <tbody>\n",
       "    <tr>\n",
       "      <th>108912</th>\n",
       "      <td>245700</td>\n",
       "      <td>Lightning Charging Cable</td>\n",
       "      <td>1</td>\n",
       "      <td>14.95</td>\n",
       "      <td>2019-08-29 11:14:00</td>\n",
       "      <td>803 Cedar St, Boston, MA 02215</td>\n",
       "      <td>8</td>\n",
       "      <td>August</td>\n",
       "      <td>29</td>\n",
       "      <td>239</td>\n",
       "      <td>Thursday</td>\n",
       "    </tr>\n",
       "    <tr>\n",
       "      <th>67941</th>\n",
       "      <td>206353</td>\n",
       "      <td>USB-C Charging Cable</td>\n",
       "      <td>1</td>\n",
       "      <td>11.95</td>\n",
       "      <td>2019-05-03 08:53:00</td>\n",
       "      <td>509 Spruce St, San Francisco, CA 94016</td>\n",
       "      <td>5</td>\n",
       "      <td>May</td>\n",
       "      <td>3</td>\n",
       "      <td>121</td>\n",
       "      <td>Friday</td>\n",
       "    </tr>\n",
       "    <tr>\n",
       "      <th>88851</th>\n",
       "      <td>226404</td>\n",
       "      <td>Flatscreen TV</td>\n",
       "      <td>1</td>\n",
       "      <td>300.00</td>\n",
       "      <td>2019-07-11 22:44:00</td>\n",
       "      <td>383 River St, New York City, NY 10001</td>\n",
       "      <td>7</td>\n",
       "      <td>July</td>\n",
       "      <td>11</td>\n",
       "      <td>190</td>\n",
       "      <td>Thursday</td>\n",
       "    </tr>\n",
       "    <tr>\n",
       "      <th>166490</th>\n",
       "      <td>300956</td>\n",
       "      <td>AAA Batteries (4-pack)</td>\n",
       "      <td>1</td>\n",
       "      <td>2.99</td>\n",
       "      <td>2019-12-18 14:32:00</td>\n",
       "      <td>126 Washington St, Atlanta, GA 30301</td>\n",
       "      <td>12</td>\n",
       "      <td>December</td>\n",
       "      <td>18</td>\n",
       "      <td>350</td>\n",
       "      <td>Wednesday</td>\n",
       "    </tr>\n",
       "    <tr>\n",
       "      <th>90461</th>\n",
       "      <td>227949</td>\n",
       "      <td>USB-C Charging Cable</td>\n",
       "      <td>1</td>\n",
       "      <td>11.95</td>\n",
       "      <td>2019-07-05 00:43:00</td>\n",
       "      <td>815 Cedar St, Dallas, TX 75001</td>\n",
       "      <td>7</td>\n",
       "      <td>July</td>\n",
       "      <td>5</td>\n",
       "      <td>184</td>\n",
       "      <td>Friday</td>\n",
       "    </tr>\n",
       "    <tr>\n",
       "      <th>155057</th>\n",
       "      <td>290000</td>\n",
       "      <td>AA Batteries (4-pack)</td>\n",
       "      <td>1</td>\n",
       "      <td>3.84</td>\n",
       "      <td>2019-11-08 11:37:00</td>\n",
       "      <td>953 2nd St, Dallas, TX 75001</td>\n",
       "      <td>11</td>\n",
       "      <td>November</td>\n",
       "      <td>8</td>\n",
       "      <td>310</td>\n",
       "      <td>Friday</td>\n",
       "    </tr>\n",
       "    <tr>\n",
       "      <th>45959</th>\n",
       "      <td>185322</td>\n",
       "      <td>LG Dryer</td>\n",
       "      <td>1</td>\n",
       "      <td>600.00</td>\n",
       "      <td>2019-04-18 12:49:00</td>\n",
       "      <td>269 5th St, Boston, MA 02215</td>\n",
       "      <td>4</td>\n",
       "      <td>April</td>\n",
       "      <td>18</td>\n",
       "      <td>106</td>\n",
       "      <td>Thursday</td>\n",
       "    </tr>\n",
       "    <tr>\n",
       "      <th>54159</th>\n",
       "      <td>193192</td>\n",
       "      <td>Wired Headphones</td>\n",
       "      <td>1</td>\n",
       "      <td>11.99</td>\n",
       "      <td>2019-04-27 12:34:00</td>\n",
       "      <td>858 Hickory St, Portland, OR 97035</td>\n",
       "      <td>4</td>\n",
       "      <td>April</td>\n",
       "      <td>27</td>\n",
       "      <td>115</td>\n",
       "      <td>Saturday</td>\n",
       "    </tr>\n",
       "    <tr>\n",
       "      <th>776</th>\n",
       "      <td>141982</td>\n",
       "      <td>27in FHD Monitor</td>\n",
       "      <td>1</td>\n",
       "      <td>149.99</td>\n",
       "      <td>2019-01-11 15:57:00</td>\n",
       "      <td>624 Highland St, Atlanta, GA 30301</td>\n",
       "      <td>1</td>\n",
       "      <td>January</td>\n",
       "      <td>11</td>\n",
       "      <td>9</td>\n",
       "      <td>Friday</td>\n",
       "    </tr>\n",
       "    <tr>\n",
       "      <th>123560</th>\n",
       "      <td>259803</td>\n",
       "      <td>Macbook Pro Laptop</td>\n",
       "      <td>1</td>\n",
       "      <td>1700.00</td>\n",
       "      <td>2019-10-18 00:35:00</td>\n",
       "      <td>861 Main St, Los Angeles, CA 90001</td>\n",
       "      <td>10</td>\n",
       "      <td>October</td>\n",
       "      <td>18</td>\n",
       "      <td>289</td>\n",
       "      <td>Friday</td>\n",
       "    </tr>\n",
       "  </tbody>\n",
       "</table>\n",
       "</div>"
      ],
      "text/plain": [
       "        Order ID                   Product  Quantity Ordered  Price Each  \\\n",
       "108912    245700  Lightning Charging Cable                 1       14.95   \n",
       "67941     206353      USB-C Charging Cable                 1       11.95   \n",
       "88851     226404             Flatscreen TV                 1      300.00   \n",
       "166490    300956    AAA Batteries (4-pack)                 1        2.99   \n",
       "90461     227949      USB-C Charging Cable                 1       11.95   \n",
       "155057    290000     AA Batteries (4-pack)                 1        3.84   \n",
       "45959     185322                  LG Dryer                 1      600.00   \n",
       "54159     193192          Wired Headphones                 1       11.99   \n",
       "776       141982          27in FHD Monitor                 1      149.99   \n",
       "123560    259803        Macbook Pro Laptop                 1     1700.00   \n",
       "\n",
       "                Order Date                        Purchase Address  \\\n",
       "108912 2019-08-29 11:14:00          803 Cedar St, Boston, MA 02215   \n",
       "67941  2019-05-03 08:53:00  509 Spruce St, San Francisco, CA 94016   \n",
       "88851  2019-07-11 22:44:00   383 River St, New York City, NY 10001   \n",
       "166490 2019-12-18 14:32:00    126 Washington St, Atlanta, GA 30301   \n",
       "90461  2019-07-05 00:43:00          815 Cedar St, Dallas, TX 75001   \n",
       "155057 2019-11-08 11:37:00            953 2nd St, Dallas, TX 75001   \n",
       "45959  2019-04-18 12:49:00            269 5th St, Boston, MA 02215   \n",
       "54159  2019-04-27 12:34:00      858 Hickory St, Portland, OR 97035   \n",
       "776    2019-01-11 15:57:00      624 Highland St, Atlanta, GA 30301   \n",
       "123560 2019-10-18 00:35:00      861 Main St, Los Angeles, CA 90001   \n",
       "\n",
       "        Month Number Month Name  Day of Month  Ordinal Day    Weekday  \n",
       "108912             8     August            29          239   Thursday  \n",
       "67941              5        May             3          121     Friday  \n",
       "88851              7       July            11          190   Thursday  \n",
       "166490            12   December            18          350  Wednesday  \n",
       "90461              7       July             5          184     Friday  \n",
       "155057            11   November             8          310     Friday  \n",
       "45959              4      April            18          106   Thursday  \n",
       "54159              4      April            27          115   Saturday  \n",
       "776                1    January            11            9     Friday  \n",
       "123560            10    October            18          289     Friday  "
      ]
     },
     "execution_count": 32,
     "metadata": {},
     "output_type": "execute_result"
    }
   ],
   "source": [
    "data_2019.sample(10)"
   ]
  },
  {
   "cell_type": "code",
   "execution_count": 33,
   "metadata": {
    "tags": []
   },
   "outputs": [
    {
     "name": "stdout",
     "output_type": "stream",
     "text": [
      "<class 'pandas.core.frame.DataFrame'>\n",
      "Index: 185916 entries, 0 to 185949\n",
      "Data columns (total 11 columns):\n",
      " #   Column            Non-Null Count   Dtype         \n",
      "---  ------            --------------   -----         \n",
      " 0   Order ID          185916 non-null  int32         \n",
      " 1   Product           185916 non-null  object        \n",
      " 2   Quantity Ordered  185916 non-null  int32         \n",
      " 3   Price Each        185916 non-null  float64       \n",
      " 4   Order Date        185916 non-null  datetime64[ns]\n",
      " 5   Purchase Address  185916 non-null  object        \n",
      " 6   Month Number      185916 non-null  Int8          \n",
      " 7   Month Name        185916 non-null  object        \n",
      " 8   Day of Month      185916 non-null  Int8          \n",
      " 9   Ordinal Day       185916 non-null  Int16         \n",
      " 10  Weekday           185916 non-null  object        \n",
      "dtypes: Int16(1), Int8(2), datetime64[ns](1), float64(1), int32(2), object(4)\n",
      "memory usage: 12.6+ MB\n"
     ]
    }
   ],
   "source": [
    "data_2019.info()"
   ]
  },
  {
   "cell_type": "code",
   "execution_count": 34,
   "metadata": {
    "tags": []
   },
   "outputs": [
    {
     "data": {
      "text/html": [
       "<div>\n",
       "<style scoped>\n",
       "    .dataframe tbody tr th:only-of-type {\n",
       "        vertical-align: middle;\n",
       "    }\n",
       "\n",
       "    .dataframe tbody tr th {\n",
       "        vertical-align: top;\n",
       "    }\n",
       "\n",
       "    .dataframe thead th {\n",
       "        text-align: right;\n",
       "    }\n",
       "</style>\n",
       "<table border=\"1\" class=\"dataframe\">\n",
       "  <thead>\n",
       "    <tr style=\"text-align: right;\">\n",
       "      <th></th>\n",
       "      <th>Order ID</th>\n",
       "      <th>Quantity Ordered</th>\n",
       "      <th>Price Each</th>\n",
       "      <th>Order Date</th>\n",
       "      <th>Month Number</th>\n",
       "      <th>Day of Month</th>\n",
       "      <th>Ordinal Day</th>\n",
       "    </tr>\n",
       "  </thead>\n",
       "  <tbody>\n",
       "    <tr>\n",
       "      <th>count</th>\n",
       "      <td>185916.000000</td>\n",
       "      <td>185916.000000</td>\n",
       "      <td>185916.000000</td>\n",
       "      <td>185916</td>\n",
       "      <td>185916.0</td>\n",
       "      <td>185916.0</td>\n",
       "      <td>185916.0</td>\n",
       "    </tr>\n",
       "    <tr>\n",
       "      <th>mean</th>\n",
       "      <td>230403.546526</td>\n",
       "      <td>1.124368</td>\n",
       "      <td>184.387720</td>\n",
       "      <td>2019-07-18 21:10:53.291163392</td>\n",
       "      <td>7.060248</td>\n",
       "      <td>15.762231</td>\n",
       "      <td>197.261435</td>\n",
       "    </tr>\n",
       "    <tr>\n",
       "      <th>min</th>\n",
       "      <td>141234.000000</td>\n",
       "      <td>1.000000</td>\n",
       "      <td>2.990000</td>\n",
       "      <td>2019-01-01 03:07:00</td>\n",
       "      <td>1.0</td>\n",
       "      <td>1.0</td>\n",
       "      <td>-1.0</td>\n",
       "    </tr>\n",
       "    <tr>\n",
       "      <th>25%</th>\n",
       "      <td>185822.750000</td>\n",
       "      <td>1.000000</td>\n",
       "      <td>11.950000</td>\n",
       "      <td>2019-04-16 20:52:00</td>\n",
       "      <td>4.0</td>\n",
       "      <td>8.0</td>\n",
       "      <td>104.0</td>\n",
       "    </tr>\n",
       "    <tr>\n",
       "      <th>50%</th>\n",
       "      <td>230351.500000</td>\n",
       "      <td>1.000000</td>\n",
       "      <td>14.950000</td>\n",
       "      <td>2019-07-17 20:09:30</td>\n",
       "      <td>7.0</td>\n",
       "      <td>16.0</td>\n",
       "      <td>196.0</td>\n",
       "    </tr>\n",
       "    <tr>\n",
       "      <th>75%</th>\n",
       "      <td>275015.250000</td>\n",
       "      <td>1.000000</td>\n",
       "      <td>150.000000</td>\n",
       "      <td>2019-10-26 06:58:00</td>\n",
       "      <td>10.0</td>\n",
       "      <td>23.0</td>\n",
       "      <td>297.0</td>\n",
       "    </tr>\n",
       "    <tr>\n",
       "      <th>max</th>\n",
       "      <td>319670.000000</td>\n",
       "      <td>9.000000</td>\n",
       "      <td>1700.000000</td>\n",
       "      <td>2019-12-31 23:53:00</td>\n",
       "      <td>12.0</td>\n",
       "      <td>31.0</td>\n",
       "      <td>363.0</td>\n",
       "    </tr>\n",
       "    <tr>\n",
       "      <th>std</th>\n",
       "      <td>51506.924899</td>\n",
       "      <td>0.442749</td>\n",
       "      <td>332.722426</td>\n",
       "      <td>NaN</td>\n",
       "      <td>3.502358</td>\n",
       "      <td>8.780711</td>\n",
       "      <td>107.145549</td>\n",
       "    </tr>\n",
       "  </tbody>\n",
       "</table>\n",
       "</div>"
      ],
      "text/plain": [
       "            Order ID  Quantity Ordered     Price Each  \\\n",
       "count  185916.000000     185916.000000  185916.000000   \n",
       "mean   230403.546526          1.124368     184.387720   \n",
       "min    141234.000000          1.000000       2.990000   \n",
       "25%    185822.750000          1.000000      11.950000   \n",
       "50%    230351.500000          1.000000      14.950000   \n",
       "75%    275015.250000          1.000000     150.000000   \n",
       "max    319670.000000          9.000000    1700.000000   \n",
       "std     51506.924899          0.442749     332.722426   \n",
       "\n",
       "                          Order Date  Month Number  Day of Month  Ordinal Day  \n",
       "count                         185916      185916.0      185916.0     185916.0  \n",
       "mean   2019-07-18 21:10:53.291163392      7.060248     15.762231   197.261435  \n",
       "min              2019-01-01 03:07:00           1.0           1.0         -1.0  \n",
       "25%              2019-04-16 20:52:00           4.0           8.0        104.0  \n",
       "50%              2019-07-17 20:09:30           7.0          16.0        196.0  \n",
       "75%              2019-10-26 06:58:00          10.0          23.0        297.0  \n",
       "max              2019-12-31 23:53:00          12.0          31.0        363.0  \n",
       "std                              NaN      3.502358      8.780711   107.145549  "
      ]
     },
     "execution_count": 34,
     "metadata": {},
     "output_type": "execute_result"
    }
   ],
   "source": [
    "data_2019.describe()"
   ]
  },
  {
   "cell_type": "markdown",
   "metadata": {},
   "source": [
    "Perfect. Now, let's analyze."
   ]
  },
  {
   "cell_type": "markdown",
   "metadata": {},
   "source": [
    "#### Total monthly sales"
   ]
  },
  {
   "cell_type": "code",
   "execution_count": 35,
   "metadata": {
    "tags": []
   },
   "outputs": [
    {
     "data": {
      "text/plain": [
       "<Axes: xlabel='Month Number'>"
      ]
     },
     "execution_count": 35,
     "metadata": {},
     "output_type": "execute_result"
    },
    {
     "data": {
      "image/png": "[encoded data removed]",
      "text/plain": [
       "<Figure size 640x480 with 1 Axes>"
      ]
     },
     "metadata": {},
     "output_type": "display_data"
    }
   ],
   "source": [
    "total_monthly_sales = (data_2019[\"Quantity Ordered\"] * data_2019[\"Price Each\"]).groupby(data_2019[\"Month Number\"]).sum()\n",
    "total_monthly_sales.plot(kind=\"bar\")"
   ]
  },
  {
   "cell_type": "markdown",
   "metadata": {},
   "source": [
    "For comparison, here's the twelve-bin histogram of `Order Date`s:"
   ]
  },
  {
   "cell_type": "code",
   "execution_count": 36,
   "metadata": {
    "tags": []
   },
   "outputs": [
    {
     "data": {
      "text/plain": [
       "<Axes: >"
      ]
     },
     "execution_count": 36,
     "metadata": {},
     "output_type": "execute_result"
    },
    {
     "data": {
      "image/png": "[encoded data removed]",
      "text/plain": [
       "<Figure size 640x480 with 1 Axes>"
      ]
     },
     "metadata": {},
     "output_type": "display_data"
    }
   ],
   "source": [
    "data_2019[\"Order Date\"].hist(bins=12)"
   ]
  },
  {
   "cell_type": "markdown",
   "metadata": {},
   "source": [
    "The distribution of total monthly sales follows the approximate distribution of orders per month. No surprises there. This means that there aren't any major shifts in the percentage of orders per month that each item makes up.\n",
    "\n",
    "For example, suppose that in April, almost all orders were of expensive electronics like the Macbook Pro or the iPhone; in that case, the bar representing monthly sales in April would be significantly taller than it is, and the distribution would have a pretty glaring difference when compared to the orders-per-month distribution."
   ]
  },
  {
   "cell_type": "markdown",
   "metadata": {},
   "source": [
    "#### Average monthly sales"
   ]
  },
  {
   "cell_type": "code",
   "execution_count": 37,
   "metadata": {
    "tags": []
   },
   "outputs": [
    {
     "data": {
      "text/plain": [
       "<Axes: xlabel='Month Number'>"
      ]
     },
     "execution_count": 37,
     "metadata": {},
     "output_type": "execute_result"
    },
    {
     "data": {
      "image/png": "[encoded data removed]",
      "text/plain": [
       "<Figure size 640x480 with 1 Axes>"
      ]
     },
     "metadata": {},
     "output_type": "display_data"
    }
   ],
   "source": [
    "average_monthly_sales = (data_2019[\"Quantity Ordered\"] * data_2019[\"Price Each\"]).groupby(data_2019[\"Month Number\"]).mean()\n",
    "average_monthly_sales.plot(kind=\"bar\")"
   ]
  },
  {
   "cell_type": "markdown",
   "metadata": {},
   "source": [
    "Hardly any variation in the average sales per month. Interesting. I would've thought that there would be a significant spike in August and September, thinking that a somewhat larger portion of sales would comprise new phones and laptops due to academic institutions starting a new year, and in December, due to the same change in portion but caused by Christmas and the new year.\n",
    "\n",
    "Maybe the monthly orders are different?"
   ]
  },
  {
   "cell_type": "markdown",
   "metadata": {},
   "source": [
    "#### Total monthly orders"
   ]
  },
  {
   "cell_type": "code",
   "execution_count": 38,
   "metadata": {
    "tags": []
   },
   "outputs": [
    {
     "data": {
      "text/plain": [
       "<Axes: xlabel='Month Number'>"
      ]
     },
     "execution_count": 38,
     "metadata": {},
     "output_type": "execute_result"
    },
    {
     "data": {
      "image/png": "[encoded data removed]",
      "text/plain": [
       "<Figure size 640x480 with 1 Axes>"
      ]
     },
     "metadata": {},
     "output_type": "display_data"
    }
   ],
   "source": [
    "total_monthly_orders = data_2019.groupby(data_2019[\"Month Number\"])[\"Order ID\"].nunique()\n",
    "total_monthly_orders.plot(kind=\"bar\")"
   ]
  },
  {
   "cell_type": "markdown",
   "metadata": {},
   "source": [
    "Nothing unexpected here either. Of course, if the distribution of the number of orders per month resembles the distribution of total sales per month, it's practically guaranteed that the distribution of the average price per order per month is going to be more or less a horizontal line, i.e. constant. Let's verify that, though."
   ]
  },
  {
   "cell_type": "markdown",
   "metadata": {},
   "source": [
    "#### Average spent per order per month"
   ]
  },
  {
   "cell_type": "code",
   "execution_count": 39,
   "metadata": {
    "tags": []
   },
   "outputs": [
    {
     "data": {
      "text/plain": [
       "<Axes: xlabel='Month Number'>"
      ]
     },
     "execution_count": 39,
     "metadata": {},
     "output_type": "execute_result"
    },
    {
     "data": {
      "image/png": "[encoded data removed]",
      "text/plain": [
       "<Figure size 640x480 with 1 Axes>"
      ]
     },
     "metadata": {},
     "output_type": "display_data"
    }
   ],
   "source": [
    "avg_monthly_order_price = total_monthly_sales / total_monthly_orders\n",
    "avg_monthly_order_price.plot(kind=\"bar\")"
   ]
  },
  {
   "cell_type": "markdown",
   "metadata": {},
   "source": [
    "Approximately constant, as expected. In fact, let's be _really_ sure. Let's add a regression line to this bar plot.\n",
    "\n",
    "We will need `numpy` and `matplotlib`."
   ]
  },
  {
   "cell_type": "code",
   "execution_count": 40,
   "metadata": {
    "tags": []
   },
   "outputs": [],
   "source": [
    "import numpy as np\n",
    "import matplotlib.pyplot as plt"
   ]
  },
  {
   "cell_type": "markdown",
   "metadata": {},
   "source": [
    "By the way, in addition to the official documentation, I also recommend [this](https://realpython.com/python-matplotlib-guide/) excellent guide on the Real Python website, written by Brad Solomon, for a high-level understanding of Matplotlib."
   ]
  },
  {
   "cell_type": "code",
   "execution_count": 41,
   "metadata": {
    "tags": []
   },
   "outputs": [
    {
     "data": {
      "image/png": "[encoded data removed]",
      "text/plain": [
       "<Figure size 640x480 with 1 Axes>"
      ]
     },
     "metadata": {},
     "output_type": "display_data"
    }
   ],
   "source": [
    "x = avg_monthly_order_price.index.to_list()\n",
    "y = avg_monthly_order_price.values\n",
    "\n",
    "fig, ax = plt.subplots()\n",
    "\n",
    "ax.bar(x, y, color=\"dodgerblue\")\n",
    "\n",
    "params = np.polyfit(x, y, 1)\n",
    "curve = np.poly1d(params)\n",
    "\n",
    "ax.plot(x, curve(x), \"black\")\n",
    "\n",
    "plt.show()"
   ]
  },
  {
   "cell_type": "markdown",
   "metadata": {},
   "source": [
    "I also took the liberty of changing the bars' colour to a more attractive blue.\n",
    "\n",
    "Anyway, you can see that the regression line is almost perfectly horizontal, indicating almost no change in the monthly average spending per order.\n",
    "We can see the exact parameters of the line, too:"
   ]
  },
  {
   "cell_type": "code",
   "execution_count": 42,
   "metadata": {
    "tags": []
   },
   "outputs": [
    {
     "data": {
      "text/plain": [
       "array([ -0.37872812, 195.84685675])"
      ]
     },
     "execution_count": 42,
     "metadata": {},
     "output_type": "execute_result"
    }
   ],
   "source": [
    "params"
   ]
  },
  {
   "cell_type": "markdown",
   "metadata": {},
   "source": [
    "The line has a slope of around -0.4 and a y-intercept of around 196."
   ]
  },
  {
   "cell_type": "markdown",
   "metadata": {},
   "source": [
    "I think that's the most we can really do with the monthly timeframe. The thing with months is that they're just long enough that the weather can change noticeably in between them, and only a few months exist between major social and economic events like the resuming of academics in September, Halloween in October, Christmas in December, Valentine's Day in February, spring break, summer vacation, etc. All of these things can affect purchases pretty significantly, so without being able to compare data for the same season over multiple years, monthly data turns out not to be terribly useful."
   ]
  },
  {
   "cell_type": "markdown",
   "metadata": {},
   "source": [
    "### Daily statistics"
   ]
  },
  {
   "cell_type": "markdown",
   "metadata": {},
   "source": [
    "Daily statistics are found in largely the same way as monthly statistics; I'm currently not too interested in those.\n",
    "\n",
    "I am, however, interested in..."
   ]
  },
  {
   "cell_type": "markdown",
   "metadata": {},
   "source": [
    "### Demographics"
   ]
  },
  {
   "cell_type": "markdown",
   "metadata": {},
   "source": [
    "Where do most sales come from? Are people from certain areas more likely to purchase certain things? This is the interesting stuff!\n",
    "\n",
    "Let's start by analyzing the distribution of total sales by state. To do that, we'll create new columns for each order's customer's state, and also their city and zip code, just in case."
   ]
  },
  {
   "cell_type": "markdown",
   "metadata": {},
   "source": [
    "#### Further data transformation"
   ]
  },
  {
   "cell_type": "code",
   "execution_count": 43,
   "metadata": {
    "tags": []
   },
   "outputs": [
    {
     "data": {
      "text/html": [
       "<div>\n",
       "<style scoped>\n",
       "    .dataframe tbody tr th:only-of-type {\n",
       "        vertical-align: middle;\n",
       "    }\n",
       "\n",
       "    .dataframe tbody tr th {\n",
       "        vertical-align: top;\n",
       "    }\n",
       "\n",
       "    .dataframe thead th {\n",
       "        text-align: right;\n",
       "    }\n",
       "</style>\n",
       "<table border=\"1\" class=\"dataframe\">\n",
       "  <thead>\n",
       "    <tr style=\"text-align: right;\">\n",
       "      <th></th>\n",
       "      <th>Order ID</th>\n",
       "      <th>Product</th>\n",
       "      <th>Quantity Ordered</th>\n",
       "      <th>Price Each</th>\n",
       "      <th>Order Date</th>\n",
       "      <th>Purchase Address</th>\n",
       "      <th>Month Number</th>\n",
       "      <th>Month Name</th>\n",
       "      <th>Day of Month</th>\n",
       "      <th>Ordinal Day</th>\n",
       "      <th>Weekday</th>\n",
       "      <th>State</th>\n",
       "      <th>City</th>\n",
       "      <th>Zip Code</th>\n",
       "    </tr>\n",
       "  </thead>\n",
       "  <tbody>\n",
       "    <tr>\n",
       "      <th>0</th>\n",
       "      <td>141234</td>\n",
       "      <td>iPhone</td>\n",
       "      <td>1</td>\n",
       "      <td>700.00</td>\n",
       "      <td>2019-01-22 21:25:00</td>\n",
       "      <td>944 Walnut St, Boston, MA 02215</td>\n",
       "      <td>1</td>\n",
       "      <td>January</td>\n",
       "      <td>22</td>\n",
       "      <td>20</td>\n",
       "      <td>Tuesday</td>\n",
       "      <td>MA</td>\n",
       "      <td>Boston</td>\n",
       "      <td>02215</td>\n",
       "    </tr>\n",
       "    <tr>\n",
       "      <th>1</th>\n",
       "      <td>141235</td>\n",
       "      <td>Lightning Charging Cable</td>\n",
       "      <td>1</td>\n",
       "      <td>14.95</td>\n",
       "      <td>2019-01-28 14:15:00</td>\n",
       "      <td>185 Maple St, Portland, OR 97035</td>\n",
       "      <td>1</td>\n",
       "      <td>January</td>\n",
       "      <td>28</td>\n",
       "      <td>26</td>\n",
       "      <td>Monday</td>\n",
       "      <td>OR</td>\n",
       "      <td>Portland</td>\n",
       "      <td>97035</td>\n",
       "    </tr>\n",
       "    <tr>\n",
       "      <th>2</th>\n",
       "      <td>141236</td>\n",
       "      <td>Wired Headphones</td>\n",
       "      <td>2</td>\n",
       "      <td>11.99</td>\n",
       "      <td>2019-01-17 13:33:00</td>\n",
       "      <td>538 Adams St, San Francisco, CA 94016</td>\n",
       "      <td>1</td>\n",
       "      <td>January</td>\n",
       "      <td>17</td>\n",
       "      <td>15</td>\n",
       "      <td>Thursday</td>\n",
       "      <td>CA</td>\n",
       "      <td>San Francisco</td>\n",
       "      <td>94016</td>\n",
       "    </tr>\n",
       "    <tr>\n",
       "      <th>3</th>\n",
       "      <td>141237</td>\n",
       "      <td>27in FHD Monitor</td>\n",
       "      <td>1</td>\n",
       "      <td>149.99</td>\n",
       "      <td>2019-01-05 20:33:00</td>\n",
       "      <td>738 10th St, Los Angeles, CA 90001</td>\n",
       "      <td>1</td>\n",
       "      <td>January</td>\n",
       "      <td>5</td>\n",
       "      <td>3</td>\n",
       "      <td>Saturday</td>\n",
       "      <td>CA</td>\n",
       "      <td>Los Angeles</td>\n",
       "      <td>90001</td>\n",
       "    </tr>\n",
       "    <tr>\n",
       "      <th>4</th>\n",
       "      <td>141238</td>\n",
       "      <td>Wired Headphones</td>\n",
       "      <td>1</td>\n",
       "      <td>11.99</td>\n",
       "      <td>2019-01-25 11:59:00</td>\n",
       "      <td>387 10th St, Austin, TX 73301</td>\n",
       "      <td>1</td>\n",
       "      <td>January</td>\n",
       "      <td>25</td>\n",
       "      <td>23</td>\n",
       "      <td>Friday</td>\n",
       "      <td>TX</td>\n",
       "      <td>Austin</td>\n",
       "      <td>73301</td>\n",
       "    </tr>\n",
       "    <tr>\n",
       "      <th>...</th>\n",
       "      <td>...</td>\n",
       "      <td>...</td>\n",
       "      <td>...</td>\n",
       "      <td>...</td>\n",
       "      <td>...</td>\n",
       "      <td>...</td>\n",
       "      <td>...</td>\n",
       "      <td>...</td>\n",
       "      <td>...</td>\n",
       "      <td>...</td>\n",
       "      <td>...</td>\n",
       "      <td>...</td>\n",
       "      <td>...</td>\n",
       "      <td>...</td>\n",
       "    </tr>\n",
       "    <tr>\n",
       "      <th>185945</th>\n",
       "      <td>319666</td>\n",
       "      <td>Lightning Charging Cable</td>\n",
       "      <td>1</td>\n",
       "      <td>14.95</td>\n",
       "      <td>2019-12-11 20:58:00</td>\n",
       "      <td>14 Madison St, San Francisco, CA 94016</td>\n",
       "      <td>12</td>\n",
       "      <td>December</td>\n",
       "      <td>11</td>\n",
       "      <td>343</td>\n",
       "      <td>Wednesday</td>\n",
       "      <td>CA</td>\n",
       "      <td>San Francisco</td>\n",
       "      <td>94016</td>\n",
       "    </tr>\n",
       "    <tr>\n",
       "      <th>185946</th>\n",
       "      <td>319667</td>\n",
       "      <td>AA Batteries (4-pack)</td>\n",
       "      <td>2</td>\n",
       "      <td>3.84</td>\n",
       "      <td>2019-12-01 12:01:00</td>\n",
       "      <td>549 Willow St, Los Angeles, CA 90001</td>\n",
       "      <td>12</td>\n",
       "      <td>December</td>\n",
       "      <td>1</td>\n",
       "      <td>333</td>\n",
       "      <td>Sunday</td>\n",
       "      <td>CA</td>\n",
       "      <td>Los Angeles</td>\n",
       "      <td>90001</td>\n",
       "    </tr>\n",
       "    <tr>\n",
       "      <th>185947</th>\n",
       "      <td>319668</td>\n",
       "      <td>Vareebadd Phone</td>\n",
       "      <td>1</td>\n",
       "      <td>400.00</td>\n",
       "      <td>2019-12-09 06:43:00</td>\n",
       "      <td>273 Wilson St, Seattle, WA 98101</td>\n",
       "      <td>12</td>\n",
       "      <td>December</td>\n",
       "      <td>9</td>\n",
       "      <td>341</td>\n",
       "      <td>Monday</td>\n",
       "      <td>WA</td>\n",
       "      <td>Seattle</td>\n",
       "      <td>98101</td>\n",
       "    </tr>\n",
       "    <tr>\n",
       "      <th>185948</th>\n",
       "      <td>319669</td>\n",
       "      <td>Wired Headphones</td>\n",
       "      <td>1</td>\n",
       "      <td>11.99</td>\n",
       "      <td>2019-12-03 10:39:00</td>\n",
       "      <td>778 River St, Dallas, TX 75001</td>\n",
       "      <td>12</td>\n",
       "      <td>December</td>\n",
       "      <td>3</td>\n",
       "      <td>335</td>\n",
       "      <td>Tuesday</td>\n",
       "      <td>TX</td>\n",
       "      <td>Dallas</td>\n",
       "      <td>75001</td>\n",
       "    </tr>\n",
       "    <tr>\n",
       "      <th>185949</th>\n",
       "      <td>319670</td>\n",
       "      <td>Bose SoundSport Headphones</td>\n",
       "      <td>1</td>\n",
       "      <td>99.99</td>\n",
       "      <td>2019-12-21 21:45:00</td>\n",
       "      <td>747 Chestnut St, Los Angeles, CA 90001</td>\n",
       "      <td>12</td>\n",
       "      <td>December</td>\n",
       "      <td>21</td>\n",
       "      <td>353</td>\n",
       "      <td>Saturday</td>\n",
       "      <td>CA</td>\n",
       "      <td>Los Angeles</td>\n",
       "      <td>90001</td>\n",
       "    </tr>\n",
       "  </tbody>\n",
       "</table>\n",
       "<p>185916 rows × 14 columns</p>\n",
       "</div>"
      ],
      "text/plain": [
       "        Order ID                     Product  Quantity Ordered  Price Each  \\\n",
       "0         141234                      iPhone                 1      700.00   \n",
       "1         141235    Lightning Charging Cable                 1       14.95   \n",
       "2         141236            Wired Headphones                 2       11.99   \n",
       "3         141237            27in FHD Monitor                 1      149.99   \n",
       "4         141238            Wired Headphones                 1       11.99   \n",
       "...          ...                         ...               ...         ...   \n",
       "185945    319666    Lightning Charging Cable                 1       14.95   \n",
       "185946    319667       AA Batteries (4-pack)                 2        3.84   \n",
       "185947    319668             Vareebadd Phone                 1      400.00   \n",
       "185948    319669            Wired Headphones                 1       11.99   \n",
       "185949    319670  Bose SoundSport Headphones                 1       99.99   \n",
       "\n",
       "                Order Date                        Purchase Address  \\\n",
       "0      2019-01-22 21:25:00         944 Walnut St, Boston, MA 02215   \n",
       "1      2019-01-28 14:15:00        185 Maple St, Portland, OR 97035   \n",
       "2      2019-01-17 13:33:00   538 Adams St, San Francisco, CA 94016   \n",
       "3      2019-01-05 20:33:00      738 10th St, Los Angeles, CA 90001   \n",
       "4      2019-01-25 11:59:00           387 10th St, Austin, TX 73301   \n",
       "...                    ...                                     ...   \n",
       "185945 2019-12-11 20:58:00  14 Madison St, San Francisco, CA 94016   \n",
       "185946 2019-12-01 12:01:00    549 Willow St, Los Angeles, CA 90001   \n",
       "185947 2019-12-09 06:43:00        273 Wilson St, Seattle, WA 98101   \n",
       "185948 2019-12-03 10:39:00          778 River St, Dallas, TX 75001   \n",
       "185949 2019-12-21 21:45:00  747 Chestnut St, Los Angeles, CA 90001   \n",
       "\n",
       "        Month Number Month Name  Day of Month  Ordinal Day    Weekday State  \\\n",
       "0                  1    January            22           20    Tuesday    MA   \n",
       "1                  1    January            28           26     Monday    OR   \n",
       "2                  1    January            17           15   Thursday    CA   \n",
       "3                  1    January             5            3   Saturday    CA   \n",
       "4                  1    January            25           23     Friday    TX   \n",
       "...              ...        ...           ...          ...        ...   ...   \n",
       "185945            12   December            11          343  Wednesday    CA   \n",
       "185946            12   December             1          333     Sunday    CA   \n",
       "185947            12   December             9          341     Monday    WA   \n",
       "185948            12   December             3          335    Tuesday    TX   \n",
       "185949            12   December            21          353   Saturday    CA   \n",
       "\n",
       "                 City Zip Code  \n",
       "0              Boston    02215  \n",
       "1            Portland    97035  \n",
       "2       San Francisco    94016  \n",
       "3         Los Angeles    90001  \n",
       "4              Austin    73301  \n",
       "...               ...      ...  \n",
       "185945  San Francisco    94016  \n",
       "185946    Los Angeles    90001  \n",
       "185947        Seattle    98101  \n",
       "185948         Dallas    75001  \n",
       "185949    Los Angeles    90001  \n",
       "\n",
       "[185916 rows x 14 columns]"
      ]
     },
     "execution_count": 43,
     "metadata": {},
     "output_type": "execute_result"
    }
   ],
   "source": [
    "data_2019.loc[:, \"State\"] = pd.Series(data_2019.loc[:, \"Purchase Address\"].map(lambda s: s.split(\",\")[2].strip()[0:2]))\n",
    "data_2019.loc[:, \"City\"] = pd.Series(data_2019.loc[:, \"Purchase Address\"].map(lambda s: s.split(\",\")[1].strip()))\n",
    "data_2019.loc[:, \"Zip Code\"] = pd.Series(data_2019.loc[:, \"Purchase Address\"].map(lambda s: s.split(\",\")[2].strip()[3:]))\n",
    "\n",
    "data_2019"
   ]
  },
  {
   "cell_type": "markdown",
   "metadata": {},
   "source": [
    "Lovely. Now we can analyze."
   ]
  },
  {
   "cell_type": "markdown",
   "metadata": {},
   "source": [
    "#### What states do orders come from?"
   ]
  },
  {
   "cell_type": "code",
   "execution_count": 44,
   "metadata": {
    "tags": []
   },
   "outputs": [
    {
     "data": {
      "text/plain": [
       "<Axes: xlabel='State'>"
      ]
     },
     "execution_count": 44,
     "metadata": {},
     "output_type": "execute_result"
    },
    {
     "data": {
      "image/png": "[encoded data removed]",
      "text/plain": [
       "<Figure size 640x480 with 1 Axes>"
      ]
     },
     "metadata": {},
     "output_type": "display_data"
    }
   ],
   "source": [
    "state_orders = data_2019.groupby(\"State\")[\"Order ID\"].nunique()\n",
    "state_orders.plot(kind=\"bar\")"
   ]
  },
  {
   "cell_type": "code",
   "execution_count": 45,
   "metadata": {
    "tags": []
   },
   "outputs": [
    {
     "data": {
      "text/plain": [
       "State\n",
       "CA    71384\n",
       "NY    23840\n",
       "TX    23745\n",
       "MA    19088\n",
       "GA    14253\n",
       "WA    14118\n",
       "OR     9615\n",
       "ME     2363\n",
       "Name: Order ID, dtype: int64"
      ]
     },
     "execution_count": 45,
     "metadata": {},
     "output_type": "execute_result"
    }
   ],
   "source": [
    "state_orders.sort_values(ascending = False)"
   ]
  },
  {
   "cell_type": "markdown",
   "metadata": {},
   "source": [
    "Looks like the states from which orders are made are, in descending order of number of orders, California, New York, Texas, Massachusetts, Georgia, Washington, Oregon, and Maine, with California ordering more than New York, Texas, and Massachusetts put together.\n",
    "\n",
    "But do more orders necessarily translate into more revenue from each state? Let's see."
   ]
  },
  {
   "cell_type": "markdown",
   "metadata": {},
   "source": [
    "#### Sales by state"
   ]
  },
  {
   "cell_type": "code",
   "execution_count": 46,
   "metadata": {
    "tags": []
   },
   "outputs": [
    {
     "data": {
      "text/plain": [
       "<Axes: xlabel='State'>"
      ]
     },
     "execution_count": 46,
     "metadata": {},
     "output_type": "execute_result"
    },
    {
     "data": {
      "image/png": "[encoded data removed]",
      "text/plain": [
       "<Figure size 640x480 with 1 Axes>"
      ]
     },
     "metadata": {},
     "output_type": "display_data"
    }
   ],
   "source": [
    "state_sales = (data_2019[\"Quantity Ordered\"] * data_2019[\"Price Each\"]).groupby(data_2019[\"State\"]).sum()\n",
    "state_sales.plot(kind=\"bar\")"
   ]
  },
  {
   "cell_type": "code",
   "execution_count": 47,
   "metadata": {
    "tags": []
   },
   "outputs": [
    {
     "data": {
      "text/plain": [
       "State\n",
       "CA    13711289.84\n",
       "NY     4662976.81\n",
       "TX     4585342.22\n",
       "MA     3660315.12\n",
       "GA     2795498.58\n",
       "WA     2747605.49\n",
       "OR     1870579.35\n",
       "ME      449758.27\n",
       "dtype: float64"
      ]
     },
     "execution_count": 47,
     "metadata": {},
     "output_type": "execute_result"
    }
   ],
   "source": [
    "state_sales.sort_values(ascending = False)"
   ]
  },
  {
   "cell_type": "markdown",
   "metadata": {},
   "source": [
    "Looks like there is indeed a _very_ strong correlation between the number of orders and revenue from each state. Which makes sense, though, truth be told, I was hoping for something unexpected.\n",
    "\n",
    "Maybe there's something to see in the per-city data?"
   ]
  },
  {
   "cell_type": "markdown",
   "metadata": {},
   "source": [
    "#### Orders and revenue by city"
   ]
  },
  {
   "cell_type": "markdown",
   "metadata": {},
   "source": [
    "This time, let's skip the prose and get fancy with the code."
   ]
  },
  {
   "cell_type": "code",
   "execution_count": 48,
   "metadata": {
    "tags": []
   },
   "outputs": [
    {
     "data": {
      "image/png": "[encoded data removed]",
      "text/plain": [
       "<Figure size 640x480 with 2 Axes>"
      ]
     },
     "metadata": {},
     "output_type": "display_data"
    }
   ],
   "source": [
    "city_orders = data_2019.groupby(\"City\")[\"Order ID\"].nunique()\n",
    "city_sales = (data_2019[\"Quantity Ordered\"] * data_2019[\"Price Each\"]).groupby(data_2019[\"City\"]).sum().reindex(city_orders.index)\n",
    "\n",
    "x = city_orders.index.to_list()\n",
    "y1 = city_orders\n",
    "y2 = city_sales\n",
    "\n",
    "fig, (ax1, ax2) = plt.subplots(1, 2)\n",
    "\n",
    "ax1.bar(x, y1, color=\"dodgerblue\")\n",
    "ax2.bar(x, y2, color=\"dodgerblue\")\n",
    "\n",
    "ax1.set_title(\"Orders per city\")\n",
    "ax2.set_title(\"Revenue per city\")\n",
    "\n",
    "ax1.tick_params(axis=\"x\", labelrotation=90)\n",
    "ax2.tick_params(axis=\"x\", labelrotation=90)\n",
    "\n",
    "fig.tight_layout()\n",
    "\n",
    "plt.show()"
   ]
  },
  {
   "cell_type": "markdown",
   "metadata": {},
   "source": [
    "Identical. The final topic to analyze is the products themselves."
   ]
  },
  {
   "cell_type": "markdown",
   "metadata": {},
   "source": [
    "### Product analysis"
   ]
  },
  {
   "cell_type": "markdown",
   "metadata": {},
   "source": [
    "This section will be a sort of aggregate of exploration. We'll get the prices of all the products, examine how many orders each product has, and see how much each product contributed to yearly revenue in 2019."
   ]
  },
  {
   "cell_type": "code",
   "execution_count": 49,
   "metadata": {
    "tags": []
   },
   "outputs": [
    {
     "data": {
      "image/png": "[encoded data removed]",
      "text/plain": [
       "<Figure size 1800x800 with 3 Axes>"
      ]
     },
     "metadata": {},
     "output_type": "display_data"
    }
   ],
   "source": [
    "product_prices = data_2019[\"Price Each\"].groupby(data_2019[\"Product\"]).mean()\n",
    "product_orders = data_2019[\"Quantity Ordered\"].groupby(data_2019[\"Product\"]).sum().reindex(product_prices.index)\n",
    "product_sales_contributions = (data_2019[\"Quantity Ordered\"] * data_2019[\"Price Each\"]).groupby(data_2019[\"Product\"]).sum().reindex(product_prices.index) / total_sales  # We found total_sales near the beginning of this notebook\n",
    "\n",
    "y1 = product_prices\n",
    "y2 = product_orders\n",
    "y3 = product_sales_contributions\n",
    "x = product_prices.index.to_list()\n",
    "\n",
    "fig, (ax1, ax2, ax3) = plt.subplots(1, 3, figsize=(18, 8))\n",
    "\n",
    "ax1.bar(x, y1, color=\"dodgerblue\")\n",
    "ax2.bar(x, y2, color=\"dodgerblue\")\n",
    "ax3.bar(x, y3, color=\"dodgerblue\")\n",
    "\n",
    "ax1.set_title(\"Product prices\")\n",
    "ax2.set_title(\"Product orders\")\n",
    "ax3.set_title(\"Product price contributions\")\n",
    "\n",
    "ax1.tick_params(axis=\"x\", labelrotation=90)\n",
    "ax2.tick_params(axis=\"x\", labelrotation=90)\n",
    "ax3.tick_params(axis=\"x\", labelrotation=90)\n",
    "\n",
    "fig.tight_layout()\n",
    "\n",
    "plt.show()"
   ]
  },
  {
   "cell_type": "markdown",
   "metadata": {},
   "source": [
    "Unsurprisingly, the least expensive items sell the most, and vice versa.\n",
    "\n",
    "What is most interesting is the product sales contribution chart in the context of the other two. Here are some observations:\n",
    "1. The batteries, charging cables, and wired headphones, which are very inexpensive and sold the most, contributed hardly anything to the yearly revenue.\n",
    "2. On the other hand, the Macbook Pro, iPhone, and ThinkPad laptop, which are the three most expensive and least ordered products, contributed the most to yearly revenue.\n",
    "3. The appliances are mid-range in terms of price but sold so few units that their combined contribution to yearly revenue was less than 3%.\n",
    "4. The 20in monitor is cheap, sold a meager number of units, and had a yearly revenue contribution of less than 2%.\n",
    "5. The Vareebadd phone (yes, yes &mdash; remember this isn't real world data, most store owners are hesitant to have their yearly numbers be known so we make do with what we have) isn't terribly expensive, but sold very few unuits and had a yearly revenue contribution of around 2.5%.\n",
    "\n",
    "Based on this, we can make a few recommendations:\n",
    "1. Get rid of the appliances and focus exclusively on small electronics and their accessories.\n",
    "2. Get rid of the 20in monitor and Vareebadd phone and focus exclusively on brand name, high quality products.\n",
    "3. Things like batteries, charging cables, and wired headphones, though contributing very little to yearly revenue, are probably cheap enough to order in bulk and keep in stock, so maybe those things can be shown in a \"Recommended\" items section when the customer goes to checkout their order?\n",
    "\n",
    "Next, I want to plot the proportion of orders each product constitutes per month, as well as per state."
   ]
  },
  {
   "cell_type": "code",
   "execution_count": 50,
   "metadata": {
    "tags": []
   },
   "outputs": [
    {
     "data": {
      "text/plain": [
       "<matplotlib.legend.Legend at 0x25025460280>"
      ]
     },
     "execution_count": 50,
     "metadata": {},
     "output_type": "execute_result"
    },
    {
     "data": {
      "image/png": "[encoded data removed]",
      "text/plain": [
       "<Figure size 640x480 with 1 Axes>"
      ]
     },
     "metadata": {},
     "output_type": "display_data"
    }
   ],
   "source": [
    "product_order_proportions_per_month = data_2019.groupby([\"Month Number\", \"Product\"])[\"Quantity Ordered\"].sum()\n",
    "\n",
    "month_numbers = product_order_proportions_per_month.index.levels[0].to_list()\n",
    "x = product_order_proportions_per_month.index.levels[1]\n",
    "\n",
    "fig, ax = plt.subplots()\n",
    "fig.tight_layout()\n",
    "\n",
    "for month in month_numbers:\n",
    "    ax.scatter(x, product_order_proportions_per_month.loc[[month]] / total_monthly_orders[month])\n",
    "\n",
    "ax.set_title(\"Product revenue contributions per month\")\n",
    "ax.tick_params(axis=\"x\", labelrotation=90)\n",
    "ax.legend(month_numbers)"
   ]
  },
  {
   "cell_type": "markdown",
   "metadata": {},
   "source": [
    "Doesn't look like there's much variation between months, though it seems there was a slightly higher-than-normal demand for AAA batteries in May. Let's see the per-state plots."
   ]
  },
  {
   "cell_type": "code",
   "execution_count": 51,
   "metadata": {
    "tags": []
   },
   "outputs": [
    {
     "data": {
      "text/plain": [
       "<matplotlib.legend.Legend at 0x25026421660>"
      ]
     },
     "execution_count": 51,
     "metadata": {},
     "output_type": "execute_result"
    },
    {
     "data": {
      "image/png": "[encoded data removed]",
      "text/plain": [
       "<Figure size 640x480 with 1 Axes>"
      ]
     },
     "metadata": {},
     "output_type": "display_data"
    }
   ],
   "source": [
    "product_order_proportions_per_state = data_2019.groupby([\"State\", \"Product\"])[\"Quantity Ordered\"].sum()\n",
    "\n",
    "states = product_order_proportions_per_state.index.levels[0].to_list()\n",
    "x = product_order_proportions_per_state.index.levels[1]\n",
    "\n",
    "fig, ax = plt.subplots()\n",
    "fig.tight_layout()\n",
    "\n",
    "for state in range(len(states)):\n",
    "    ax.scatter(x, product_order_proportions_per_state.loc[[states[state]]] / state_orders.reindex(product_order_proportions_per_state.index.levels[0])[state])\n",
    "\n",
    "ax.set_title(\"Product revenue contributions per state\")\n",
    "ax.tick_params(axis=\"x\", labelrotation=90)\n",
    "ax.legend(states)"
   ]
  },
  {
   "cell_type": "markdown",
   "metadata": {},
   "source": [
    "Maine is at an extreme in most product revenue contributions. Why do they need so many USB-C cables and Apple Airpods, yet so few AAA batteries and lightning cables? What's going on in Maine?\n",
    "\n",
    "As a Canadian, I'm not familiar enough with US state demographics, and since this data isn't real, there's no way to tell if there actually is something funky in Maine or if this was done just for fun.\n",
    "\n",
    "Either way, I think that's a sufficient level of analysis. We got some useful information and questions worth looking into, as well as some recommendations we can make to the store owners to simplify their inventory and optimize revenue."
   ]
  }
 ],
 "metadata": {
  "kernelspec": {
   "display_name": "Python 3 (ipykernel)",
   "language": "python",
   "name": "python3"
  },
  "language_info": {
   "codemirror_mode": {
    "name": "ipython",
    "version": 3
   },
   "file_extension": ".py",
   "mimetype": "text/x-python",
   "name": "python",
   "nbconvert_exporter": "python",
   "pygments_lexer": "ipython3",
   "version": "3.10.12"
  }
 },
 "nbformat": 4,
 "nbformat_minor": 4
}
